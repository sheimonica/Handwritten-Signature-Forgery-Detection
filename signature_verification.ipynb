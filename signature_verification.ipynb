{
  "nbformat": 4,
  "nbformat_minor": 0,
  "metadata": {
    "colab": {
      "name": "signature_verification.ipynb",
      "provenance": [],
      "collapsed_sections": [
        "2p21C562AhCz",
        "GckqW2HUxUXW",
        "C6blUN9DyiTa",
        "JRPeDGx_K5Ap",
        "YjEke3oQjcAu",
        "ksDWrXI5joGq",
        "YlnWobCMjuB9",
        "bSlLV3p3lH0p",
        "KGERVnXThcOQ",
        "qnR0KfUjlWlF",
        "UOkupONxoe5i",
        "locClbW6ofAC",
        "1HFndHygpkDx",
        "Vu890vCtofGf",
        "sfSDXoxGBNFG",
        "NEN1Az-aqOR2",
        "ziU2wDhFqPmC",
        "ML6v2wnUqVm0",
        "Ey_Bi6F2qVm0",
        "QbQOHPcYqVm1",
        "VuP356OZBQI_",
        "nUoGZvpHreEZ",
        "wqZUKla3qbYB",
        "RJ_GnTSyqbYB",
        "CVkQKd7LqbYB",
        "N58Du0SmqbYB",
        "4aIfnV1vzrVI",
        "mjn9GcPZBbPf",
        "kox3dngfifx2",
        "l5m89QhxBfLT",
        "Sin3tpMb3dmT"
      ],
      "machine_shape": "hm"
    },
    "kernelspec": {
      "name": "python3",
      "display_name": "Python 3"
    },
    "language_info": {
      "name": "python"
    },
    "accelerator": "GPU",
    "gpuClass": "standard"
  },
  "cells": [
    {
      "cell_type": "markdown",
      "source": [
        "# Final Project FTDS 013 Group 3 - Handwritten Signature Forgery Detection"
      ],
      "metadata": {
        "id": "sn766lokEQ3N"
      }
    },
    {
      "cell_type": "markdown",
      "source": [
        "# I. Introduction"
      ],
      "metadata": {
        "id": "eZPguw4I7hgM"
      }
    },
    {
      "cell_type": "markdown",
      "source": [
        "- Nama: \n",
        "  - Muhamad Ivan (https://github.com/mivanivan)\n",
        "  - Sheila Monica (https://github.com/sheimonica)\n",
        "- Batch: FTDS 013\n",
        "- Dataset: https://www.kaggle.com/datasets/divyanshrai/handwritten-signatures\n",
        "- Tujuan: Transaksi perbankan khususnya yang terjadi di kantor cabang dan dilakukan di depan customer service dan teller secara umum menggunakan verifikasi berupa tanda tangan basah. Adapun transaksi-transaksi ini diantaranya pengambilan uang dalam jumlah besar, kartu ATM hilang, buku tabungan hilang, dll. Berdasarkan observasi kami, verifikasi tanda tangan ini dilakukan secara manual dengan cara membandingkan tanda tangan di KTP dan tanda tangan di formulir. Tentu subjektifitas dan kondisi kelelahan setiap customer service dan teller dapat menyebabkan kesalahan verifikasi tersebut. Oleh karena itu, kami berencana membuat model machine learning untuk melakukan verifikasi secara otomatis."
      ],
      "metadata": {
        "id": "cyutWe7sASHG"
      }
    },
    {
      "cell_type": "markdown",
      "source": [
        "# II. Import Libraries"
      ],
      "metadata": {
        "id": "2p21C562AhCz"
      }
    },
    {
      "cell_type": "code",
      "execution_count": 29,
      "metadata": {
        "id": "e7g2DfzLS034"
      },
      "outputs": [],
      "source": [
        "# Import Libraries\n",
        "\n",
        "import numpy as np\n",
        "import pandas as pd\n",
        "import matplotlib.pyplot as plt\n",
        "import seaborn as sns\n",
        "import copy\n",
        "import tensorflow as tf\n",
        "import os\n",
        "import zipfile\n",
        "import cv2\n",
        "import glob\n",
        "import shutil\n",
        "from sklearn.model_selection import train_test_split\n",
        "from tensorflow.keras.callbacks import EarlyStopping,ModelCheckpoint\n",
        "from tensorflow.keras.preprocessing import image\n",
        "from tensorflow.keras.utils import load_img\n",
        "from tensorflow.keras.preprocessing.image import ImageDataGenerator\n",
        "from tensorflow.keras.models import Sequential\n",
        "from tensorflow.keras.layers import Conv2D, MaxPooling2D,Dense, Dropout, Flatten\n",
        "from sklearn.metrics import confusion_matrix\n",
        "from sklearn.metrics import classification_report\n",
        "import warnings\n",
        "warnings.filterwarnings('ignore') "
      ]
    },
    {
      "cell_type": "markdown",
      "source": [
        "# III. Data Loading"
      ],
      "metadata": {
        "id": "GckqW2HUxUXW"
      }
    },
    {
      "cell_type": "code",
      "source": [
        "# Make a directory named `.kaggle` \n",
        "!mkdir ~/.kaggle"
      ],
      "metadata": {
        "id": "M4eoEw3fwchz",
        "colab": {
          "base_uri": "https://localhost:8080/"
        },
        "outputId": "80133bc6-0061-492a-c13e-91a292930401"
      },
      "execution_count": 10,
      "outputs": [
        {
          "output_type": "stream",
          "name": "stdout",
          "text": [
            "mkdir: cannot create directory ‘/root/.kaggle’: File exists\n"
          ]
        }
      ]
    },
    {
      "cell_type": "code",
      "source": [
        "# Copy the kaggle.json into this new directory \n",
        "!cp kaggle.json ~/.kaggle/"
      ],
      "metadata": {
        "id": "qOud0W67wcka"
      },
      "execution_count": 11,
      "outputs": []
    },
    {
      "cell_type": "code",
      "source": [
        "# Change permission for this directory : \n",
        "!chmod 600 ~/.kaggle/kaggle.json"
      ],
      "metadata": {
        "id": "XQoXanuKwcnF"
      },
      "execution_count": 12,
      "outputs": []
    },
    {
      "cell_type": "code",
      "source": [
        "# Download Dataset\n",
        "!kaggle datasets download -d divyanshrai/handwritten-signatures"
      ],
      "metadata": {
        "colab": {
          "base_uri": "https://localhost:8080/"
        },
        "id": "-UKn_YaUwaAL",
        "outputId": "811accdd-2db3-495b-c501-475e682c2b88"
      },
      "execution_count": 13,
      "outputs": [
        {
          "output_type": "stream",
          "name": "stdout",
          "text": [
            "Downloading handwritten-signatures.zip to /content\n",
            " 96% 354M/370M [00:04<00:00, 67.9MB/s]\n",
            "100% 370M/370M [00:04<00:00, 80.9MB/s]\n"
          ]
        }
      ]
    },
    {
      "cell_type": "code",
      "source": [
        "# Unzip downloaded dataset\n",
        "!unzip -q /content/handwritten-signatures.zip -d images"
      ],
      "metadata": {
        "id": "HWRshVR_xAQi"
      },
      "execution_count": 14,
      "outputs": []
    },
    {
      "cell_type": "code",
      "source": [
        "# Group dataset together\n",
        "\n",
        "gen_train =   [glob.glob('/content/images/Dataset_Signature_Final/Dataset/dataset1/real/*.*'),\n",
        "              glob.glob('/content/images/Dataset_Signature_Final/Dataset/dataset2/real/*.*'),\n",
        "              glob.glob('/content/images/Dataset_Signature_Final/Dataset/dataset3/real/*.*'),\n",
        "              glob.glob('/content/images/Dataset_Signature_Final/Dataset/dataset4/real/*.*'),\n",
        "              glob.glob('/content/images/sample_signature/sample_Signature/genuine/*.*')]\n",
        "                 \n",
        "forge_train = [glob.glob('/content/images/Dataset_Signature_Final/Dataset/dataset1/forge/*.*'),\n",
        "              glob.glob('/content/images/Dataset_Signature_Final/Dataset/dataset2/forge/*.*'),\n",
        "              glob.glob('/content/images/Dataset_Signature_Final/Dataset/dataset3/forge/*.*'),\n",
        "              glob.glob('/content/images/Dataset_Signature_Final/Dataset/dataset4/forge/*.*'),\n",
        "              glob.glob('/content/images/sample_signature/sample_Signature/forged/*.*')]"
      ],
      "metadata": {
        "id": "BnS0oBNsxc5T"
      },
      "execution_count": 34,
      "outputs": []
    },
    {
      "cell_type": "code",
      "source": [
        "# Appending Group 3 Signature to dataset2 to be trained\n",
        "dst_dir = '/content/images/Dataset_Signature_Final/Dataset/dataset2/real'\n",
        "for name in glob.glob('/content/dataset2/real/*.*'):    \n",
        "        shutil.copy(name, dst_dir)"
      ],
      "metadata": {
        "id": "Z26Yu4r1IwdQ"
      },
      "execution_count": 16,
      "outputs": []
    },
    {
      "cell_type": "markdown",
      "source": [
        "# IV. Exploratory Data Analysis"
      ],
      "metadata": {
        "id": "C6blUN9DyiTa"
      }
    },
    {
      "cell_type": "code",
      "source": [
        "# Graph Image Forged\n",
        "import matplotlib.pyplot as plt\n",
        "img = plt.imread('/content/images/Dataset_Signature_Final/Dataset/dataset1/forge/02100001.png')\n",
        "plt.imshow(img)"
      ],
      "metadata": {
        "colab": {
          "base_uri": "https://localhost:8080/",
          "height": 191
        },
        "id": "262YzRU1yJoA",
        "outputId": "36e01be2-a5c7-4cbd-e7b9-683fa70ee705"
      },
      "execution_count": 17,
      "outputs": [
        {
          "output_type": "execute_result",
          "data": {
            "text/plain": [
              "<matplotlib.image.AxesImage at 0x7f583519f8d0>"
            ]
          },
          "metadata": {},
          "execution_count": 17
        },
        {
          "output_type": "display_data",
          "data": {
            "text/plain": [
              "<Figure size 432x288 with 1 Axes>"
            ],
            "image/png": "[encoded data removed]"
          },
          "metadata": {
            "needs_background": "light"
          }
        }
      ]
    },
    {
      "cell_type": "code",
      "source": [
        "# Graph Image Real\n",
        "import matplotlib.pyplot as plt\n",
        "img = plt.imread('/content/images/Dataset_Signature_Final/Dataset/dataset1/real/00100001.png')\n",
        "plt.imshow(img)"
      ],
      "metadata": {
        "colab": {
          "base_uri": "https://localhost:8080/",
          "height": 222
        },
        "id": "hjO5WLPoynKN",
        "outputId": "81f930a0-6288-4e40-ffee-7baf0244f23c"
      },
      "execution_count": 18,
      "outputs": [
        {
          "output_type": "execute_result",
          "data": {
            "text/plain": [
              "<matplotlib.image.AxesImage at 0x7f5835142ad0>"
            ]
          },
          "metadata": {},
          "execution_count": 18
        },
        {
          "output_type": "display_data",
          "data": {
            "text/plain": [
              "<Figure size 432x288 with 1 Axes>"
            ],
            "image/png": "[encoded data removed]"
          },
          "metadata": {
            "needs_background": "light"
          }
        }
      ]
    },
    {
      "cell_type": "code",
      "source": [
        "# Training File Real Count\n",
        "count_real = 0\n",
        "\n",
        "for root_dir, cur_dir, files in os.walk(r'/content/images/Dataset_Signature_Final/Dataset/dataset1/real'):\n",
        "    count_real += len(files)\n",
        "for root_dir, cur_dir, files in os.walk(r'/content/images/Dataset_Signature_Final/Dataset/dataset2/real'):\n",
        "    count_real += len(files)\n",
        "for root_dir, cur_dir, files in os.walk(r'/content/images/Dataset_Signature_Final/Dataset/dataset3/real'):\n",
        "    count_real += len(files)\n",
        "for root_dir, cur_dir, files in os.walk(r'/content/images/Dataset_Signature_Final/Dataset/dataset4/real'):\n",
        "    count_real += len(files)\n",
        "\n",
        "print('real signature file count in training:', count_real)"
      ],
      "metadata": {
        "colab": {
          "base_uri": "https://localhost:8080/"
        },
        "id": "cMlutbh1B7gi",
        "outputId": "001e159e-63c4-4ad4-810c-22053b5839be"
      },
      "execution_count": 19,
      "outputs": [
        {
          "output_type": "stream",
          "name": "stdout",
          "text": [
            "real signature file count in training: 270\n"
          ]
        }
      ]
    },
    {
      "cell_type": "code",
      "source": [
        "# Training File Forge Count\n",
        "count_forge = 0\n",
        "\n",
        "for root_dir, cur_dir, files in os.walk(r'/content/images/Dataset_Signature_Final/Dataset/dataset1/forge'):\n",
        "    count_forge += len(files)\n",
        "for root_dir, cur_dir, files in os.walk(r'/content/images/Dataset_Signature_Final/Dataset/dataset1/forge'):\n",
        "    count_forge += len(files)\n",
        "for root_dir, cur_dir, files in os.walk(r'/content/images/Dataset_Signature_Final/Dataset/dataset1/forge'):\n",
        "    count_forge += len(files)\n",
        "for root_dir, cur_dir, files in os.walk(r'/content/images/Dataset_Signature_Final/Dataset/dataset1/forge'):\n",
        "    count_forge += len(files)\n",
        "\n",
        "print('forge signature file count in training:', count_forge)"
      ],
      "metadata": {
        "colab": {
          "base_uri": "https://localhost:8080/"
        },
        "id": "QAUyJn-RDGwm",
        "outputId": "151f0e06-c856-4496-9026-786ea9372623"
      },
      "execution_count": 20,
      "outputs": [
        {
          "output_type": "stream",
          "name": "stdout",
          "text": [
            "forge signature file count in training: 240\n"
          ]
        }
      ]
    },
    {
      "cell_type": "code",
      "source": [
        "# Sample File Real Count\n",
        "count_real = 0\n",
        "\n",
        "for root_dir, cur_dir, files in os.walk(r'/content/images/sample_Signature/sample_Signature/genuine'):\n",
        "    count_real += len(files)\n",
        "\n",
        "print('real signature file count in training:', count_real)"
      ],
      "metadata": {
        "colab": {
          "base_uri": "https://localhost:8080/"
        },
        "id": "monEYWvqDmt7",
        "outputId": "2e6050af-430f-4a85-a3ce-73937112da9f"
      },
      "execution_count": 21,
      "outputs": [
        {
          "output_type": "stream",
          "name": "stdout",
          "text": [
            "real signature file count in training: 150\n"
          ]
        }
      ]
    },
    {
      "cell_type": "code",
      "source": [
        "# Sample File Forge Count\n",
        "for root_dir, cur_dir, files in os.walk(r'/content/images/sample_Signature/sample_Signature/forged'):\n",
        "    count_forge += len(files)\n",
        "\n",
        "print('forge signature file count in training:', count_forge)"
      ],
      "metadata": {
        "colab": {
          "base_uri": "https://localhost:8080/"
        },
        "id": "sg00ulJgDzs6",
        "outputId": "08c6ecf3-00d7-4881-add3-8969e47e6e69"
      },
      "execution_count": 22,
      "outputs": [
        {
          "output_type": "stream",
          "name": "stdout",
          "text": [
            "forge signature file count in training: 390\n"
          ]
        }
      ]
    },
    {
      "cell_type": "code",
      "source": [
        "# Checking through different color layers\n",
        "img = cv2.imread('/content/images/Dataset_Signature_Final/Dataset/dataset1/forge/02100001.png')\n",
        "img_rgb = cv2.cvtColor(img, cv2.COLOR_BGR2RGB)\n",
        "\n",
        "Red = img_rgb[:,:,0]\n",
        "Green = img_rgb[:,:,1]\n",
        "Blue = img_rgb[:,:,2]\n",
        "Grey = 0.299*Red + 0.587*Green + 0.114*Blue\n",
        "\n",
        "# Graph RGB & Greyscale\n",
        "fig, ax = plt.subplots(ncols=6,figsize=(20,5))\n",
        "ax[0].imshow(img_rgb)\n",
        "ax[0].set_title('Real Image')\n",
        "ax[1].imshow(Red)\n",
        "ax[1].set_title('Image Filter R')\n",
        "ax[2].imshow(Green)\n",
        "ax[2].set_title('Image Filter G')\n",
        "ax[3].imshow(Blue)\n",
        "ax[3].set_title('Image Filter B')\n",
        "ax[4].imshow(Grey)\n",
        "ax[4].set_title('Grayscale image without cmap')\n",
        "ax[5].imshow(Grey, cmap='gray')\n",
        "ax[5].set_title('Grayscale image with cmap')"
      ],
      "metadata": {
        "colab": {
          "base_uri": "https://localhost:8080/",
          "height": 139
        },
        "id": "d-xRfhh9D77x",
        "outputId": "b07fe34a-63f3-42bb-d58c-b77ff73949ee"
      },
      "execution_count": 23,
      "outputs": [
        {
          "output_type": "execute_result",
          "data": {
            "text/plain": [
              "Text(0.5, 1.0, 'Grayscale image with cmap')"
            ]
          },
          "metadata": {},
          "execution_count": 23
        },
        {
          "output_type": "display_data",
          "data": {
            "text/plain": [
              "<Figure size 1440x360 with 6 Axes>"
            ],
            "image/png": "[encoded data removed]"
          },
          "metadata": {
            "needs_background": "light"
          }
        }
      ]
    },
    {
      "cell_type": "code",
      "source": [
        "# Checking through different image sizes\n",
        "img = cv2.imread('/content/images/Dataset_Signature_Final/Dataset/dataset1/forge/02100001.png')\n",
        "img_gray = cv2.cvtColor(img, cv2.COLOR_BGR2GRAY)\n",
        "img_res100 = cv2.resize(img_gray, dsize=(100, 100))\n",
        "img_res150 = cv2.resize(img_gray, dsize=(150, 150))\n",
        "img_res200 = cv2.resize(img_gray, dsize=(200, 200))\n",
        "img_res256 = cv2.resize(img_gray, dsize=(256, 256))\n",
        "\n",
        "# Graph image\n",
        "fig, ax = plt.subplots(ncols=5,figsize=(20,5))\n",
        "ax[0].imshow(img_gray, cmap='gray')\n",
        "ax[0].set_title('Real Image')\n",
        "ax[1].imshow(img_res100, cmap='gray')\n",
        "ax[1].set_title('Real Image Resized 100x100')\n",
        "ax[2].imshow(img_res150, cmap='gray')\n",
        "ax[2].set_title('Real Image Resized 150x150')\n",
        "ax[3].imshow(img_res200, cmap='gray')\n",
        "ax[3].set_title('Real Image Resized 200x200')\n",
        "ax[4].imshow(img_res256, cmap='gray')\n",
        "ax[4].set_title('Real Image Resized 256x256')"
      ],
      "metadata": {
        "colab": {
          "base_uri": "https://localhost:8080/",
          "height": 273
        },
        "id": "tEoMinNHGcRj",
        "outputId": "86da278f-7ee7-4df4-bae1-45703a215af4"
      },
      "execution_count": 25,
      "outputs": [
        {
          "output_type": "execute_result",
          "data": {
            "text/plain": [
              "Text(0.5, 1.0, 'Real Image Resized 256x256')"
            ]
          },
          "metadata": {},
          "execution_count": 25
        },
        {
          "output_type": "display_data",
          "data": {
            "text/plain": [
              "<Figure size 1440x360 with 5 Axes>"
            ],
            "image/png": "[encoded data removed]"
          },
          "metadata": {
            "needs_background": "light"
          }
        }
      ]
    },
    {
      "cell_type": "markdown",
      "source": [
        "In the exploratory data analysis (EDA) we have found out that:\n",
        "- The train image files consist of inequal numbers of genuine and forged signature image.\n",
        "- The test image also files consist of inequal numbers of genuine and forged signature image.\n",
        "- RGB filter does not show much difference for image colors, and grayscale seems to show better visibility for the image, which help with our classification model. We will be using grayscale as our image format color.\n",
        "- We will be resizing image size to 256 x 256 for better visibility."
      ],
      "metadata": {
        "id": "YY5nJMe2Jydy"
      }
    },
    {
      "cell_type": "markdown",
      "source": [
        "# V. Data Preprocessing"
      ],
      "metadata": {
        "id": "JRPeDGx_K5Ap"
      }
    },
    {
      "cell_type": "markdown",
      "source": [
        "#### **Giving Label to Data**"
      ],
      "metadata": {
        "id": "YjEke3oQjcAu"
      }
    },
    {
      "cell_type": "code",
      "source": [
        "data = []\n",
        "labels = []\n",
        "\n",
        "for a in range(len(gen_train)):\n",
        "    for i in gen_train[a]:   \n",
        "        image=load_img(i, color_mode='grayscale', \n",
        "        target_size= (256,256))\n",
        "        image=np.array(image)\n",
        "        image=np.repeat(image[..., np.newaxis], 3, -1)\n",
        "        data.append(image)\n",
        "        labels.append(0)\n",
        "for a in range(len(forge_train)):\n",
        "    for i in forge_train[a]:   \n",
        "        image=load_img(i, color_mode='grayscale', \n",
        "        target_size= (256,256))\n",
        "        image=np.array(image)\n",
        "        image=np.repeat(image[..., np.newaxis], 3, -1)\n",
        "        data.append(image)\n",
        "        labels.append(1)\n",
        "\n",
        "\n",
        "data = np.array(data)\n",
        "labels = np.array(labels)"
      ],
      "metadata": {
        "id": "DPsbvUmaK6QK"
      },
      "execution_count": 35,
      "outputs": []
    },
    {
      "cell_type": "code",
      "source": [
        "# Turn Labels into dataframe\n",
        "df_labels = pd.DataFrame(labels,columns=['labels'])"
      ],
      "metadata": {
        "id": "-7KppGfqjJsZ"
      },
      "execution_count": 36,
      "outputs": []
    },
    {
      "cell_type": "code",
      "source": [
        "# Showing Labels dataframe\n",
        "df_labels"
      ],
      "metadata": {
        "colab": {
          "base_uri": "https://localhost:8080/",
          "height": 424
        },
        "id": "sI0mpGfkjJzt",
        "outputId": "2defb5cc-61d0-4382-8644-ba9476417db9"
      },
      "execution_count": 37,
      "outputs": [
        {
          "output_type": "execute_result",
          "data": {
            "text/plain": [
              "     labels\n",
              "0         0\n",
              "1         0\n",
              "2         0\n",
              "3         0\n",
              "4         0\n",
              "..      ...\n",
              "925       1\n",
              "926       1\n",
              "927       1\n",
              "928       1\n",
              "929       1\n",
              "\n",
              "[930 rows x 1 columns]"
            ],
            "text/html": [
              "\n",
              "  <div id=\"df-ef11dd87-ff51-475d-9845-df8b587993d2\">\n",
              "    <div class=\"colab-df-container\">\n",
              "      <div>\n",
              "<style scoped>\n",
              "    .dataframe tbody tr th:only-of-type {\n",
              "        vertical-align: middle;\n",
              "    }\n",
              "\n",
              "    .dataframe tbody tr th {\n",
              "        vertical-align: top;\n",
              "    }\n",
              "\n",
              "    .dataframe thead th {\n",
              "        text-align: right;\n",
              "    }\n",
              "</style>\n",
              "<table border=\"1\" class=\"dataframe\">\n",
              "  <thead>\n",
              "    <tr style=\"text-align: right;\">\n",
              "      <th></th>\n",
              "      <th>labels</th>\n",
              "    </tr>\n",
              "  </thead>\n",
              "  <tbody>\n",
              "    <tr>\n",
              "      <th>0</th>\n",
              "      <td>0</td>\n",
              "    </tr>\n",
              "    <tr>\n",
              "      <th>1</th>\n",
              "      <td>0</td>\n",
              "    </tr>\n",
              "    <tr>\n",
              "      <th>2</th>\n",
              "      <td>0</td>\n",
              "    </tr>\n",
              "    <tr>\n",
              "      <th>3</th>\n",
              "      <td>0</td>\n",
              "    </tr>\n",
              "    <tr>\n",
              "      <th>4</th>\n",
              "      <td>0</td>\n",
              "    </tr>\n",
              "    <tr>\n",
              "      <th>...</th>\n",
              "      <td>...</td>\n",
              "    </tr>\n",
              "    <tr>\n",
              "      <th>925</th>\n",
              "      <td>1</td>\n",
              "    </tr>\n",
              "    <tr>\n",
              "      <th>926</th>\n",
              "      <td>1</td>\n",
              "    </tr>\n",
              "    <tr>\n",
              "      <th>927</th>\n",
              "      <td>1</td>\n",
              "    </tr>\n",
              "    <tr>\n",
              "      <th>928</th>\n",
              "      <td>1</td>\n",
              "    </tr>\n",
              "    <tr>\n",
              "      <th>929</th>\n",
              "      <td>1</td>\n",
              "    </tr>\n",
              "  </tbody>\n",
              "</table>\n",
              "<p>930 rows × 1 columns</p>\n",
              "</div>\n",
              "      <button class=\"colab-df-convert\" onclick=\"convertToInteractive('df-ef11dd87-ff51-475d-9845-df8b587993d2')\"\n",
              "              title=\"Convert this dataframe to an interactive table.\"\n",
              "              style=\"display:none;\">\n",
              "        \n",
              "  <svg xmlns=\"http://www.w3.org/2000/svg\" height=\"24px\"viewBox=\"0 0 24 24\"\n",
              "       width=\"24px\">\n",
              "    <path d=\"M0 0h24v24H0V0z\" fill=\"none\"/>\n",
              "    <path d=\"M18.56 5.44l.94 2.06.94-2.06 2.06-.94-2.06-.94-.94-2.06-.94 2.06-2.06.94zm-11 1L8.5 8.5l.94-2.06 2.06-.94-2.06-.94L8.5 2.5l-.94 2.06-2.06.94zm10 10l.94 2.06.94-2.06 2.06-.94-2.06-.94-.94-2.06-.94 2.06-2.06.94z\"/><path d=\"M17.41 7.96l-1.37-1.37c-.4-.4-.92-.59-1.43-.59-.52 0-1.04.2-1.43.59L10.3 9.45l-7.72 7.72c-.78.78-.78 2.05 0 2.83L4 21.41c.39.39.9.59 1.41.59.51 0 1.02-.2 1.41-.59l7.78-7.78 2.81-2.81c.8-.78.8-2.07 0-2.86zM5.41 20L4 18.59l7.72-7.72 1.47 1.35L5.41 20z\"/>\n",
              "  </svg>\n",
              "      </button>\n",
              "      \n",
              "  <style>\n",
              "    .colab-df-container {\n",
              "      display:flex;\n",
              "      flex-wrap:wrap;\n",
              "      gap: 12px;\n",
              "    }\n",
              "\n",
              "    .colab-df-convert {\n",
              "      background-color: #E8F0FE;\n",
              "      border: none;\n",
              "      border-radius: 50%;\n",
              "      cursor: pointer;\n",
              "      display: none;\n",
              "      fill: #1967D2;\n",
              "      height: 32px;\n",
              "      padding: 0 0 0 0;\n",
              "      width: 32px;\n",
              "    }\n",
              "\n",
              "    .colab-df-convert:hover {\n",
              "      background-color: #E2EBFA;\n",
              "      box-shadow: 0px 1px 2px rgba(60, 64, 67, 0.3), 0px 1px 3px 1px rgba(60, 64, 67, 0.15);\n",
              "      fill: #174EA6;\n",
              "    }\n",
              "\n",
              "    [theme=dark] .colab-df-convert {\n",
              "      background-color: #3B4455;\n",
              "      fill: #D2E3FC;\n",
              "    }\n",
              "\n",
              "    [theme=dark] .colab-df-convert:hover {\n",
              "      background-color: #434B5C;\n",
              "      box-shadow: 0px 1px 3px 1px rgba(0, 0, 0, 0.15);\n",
              "      filter: drop-shadow(0px 1px 2px rgba(0, 0, 0, 0.3));\n",
              "      fill: #FFFFFF;\n",
              "    }\n",
              "  </style>\n",
              "\n",
              "      <script>\n",
              "        const buttonEl =\n",
              "          document.querySelector('#df-ef11dd87-ff51-475d-9845-df8b587993d2 button.colab-df-convert');\n",
              "        buttonEl.style.display =\n",
              "          google.colab.kernel.accessAllowed ? 'block' : 'none';\n",
              "\n",
              "        async function convertToInteractive(key) {\n",
              "          const element = document.querySelector('#df-ef11dd87-ff51-475d-9845-df8b587993d2');\n",
              "          const dataTable =\n",
              "            await google.colab.kernel.invokeFunction('convertToInteractive',\n",
              "                                                     [key], {});\n",
              "          if (!dataTable) return;\n",
              "\n",
              "          const docLinkHtml = 'Like what you see? Visit the ' +\n",
              "            '<a target=\"_blank\" href=https://colab.research.google.com/notebooks/data_table.ipynb>data table notebook</a>'\n",
              "            + ' to learn more about interactive tables.';\n",
              "          element.innerHTML = '';\n",
              "          dataTable['output_type'] = 'display_data';\n",
              "          await google.colab.output.renderOutput(dataTable, element);\n",
              "          const docLink = document.createElement('div');\n",
              "          docLink.innerHTML = docLinkHtml;\n",
              "          element.appendChild(docLink);\n",
              "        }\n",
              "      </script>\n",
              "    </div>\n",
              "  </div>\n",
              "  "
            ]
          },
          "metadata": {},
          "execution_count": 37
        }
      ]
    },
    {
      "cell_type": "code",
      "source": [
        "# Normalization data\n",
        "data = data/255"
      ],
      "metadata": {
        "id": "s1hxrOsejJ53"
      },
      "execution_count": 38,
      "outputs": []
    },
    {
      "cell_type": "markdown",
      "source": [
        "#### **Get Inference Data**"
      ],
      "metadata": {
        "id": "ksDWrXI5joGq"
      }
    },
    {
      "cell_type": "code",
      "source": [
        "# Get Data for Model Inference\n",
        "\n",
        "x_train_test, x_inf,  y_train_test, y_inf = train_test_split(data, df_labels, shuffle=True, test_size=0.01,random_state=26)"
      ],
      "metadata": {
        "id": "BHOE8owZkaxL"
      },
      "execution_count": 42,
      "outputs": []
    },
    {
      "cell_type": "code",
      "source": [
        "# Shape Checking Data Inferensial\n",
        "y_inf"
      ],
      "metadata": {
        "colab": {
          "base_uri": "https://localhost:8080/",
          "height": 363
        },
        "id": "rNywTU5tkcGP",
        "outputId": "2e55b4d9-578e-4da0-c3e2-d698f8790d26"
      },
      "execution_count": 40,
      "outputs": [
        {
          "output_type": "execute_result",
          "data": {
            "text/plain": [
              "     labels\n",
              "372       0\n",
              "117       0\n",
              "299       0\n",
              "133       0\n",
              "766       1\n",
              "529       1\n",
              "184       0\n",
              "813       1\n",
              "247       0\n",
              "823       1"
            ],
            "text/html": [
              "\n",
              "  <div id=\"df-45446f21-621b-456c-9edb-346c96900543\">\n",
              "    <div class=\"colab-df-container\">\n",
              "      <div>\n",
              "<style scoped>\n",
              "    .dataframe tbody tr th:only-of-type {\n",
              "        vertical-align: middle;\n",
              "    }\n",
              "\n",
              "    .dataframe tbody tr th {\n",
              "        vertical-align: top;\n",
              "    }\n",
              "\n",
              "    .dataframe thead th {\n",
              "        text-align: right;\n",
              "    }\n",
              "</style>\n",
              "<table border=\"1\" class=\"dataframe\">\n",
              "  <thead>\n",
              "    <tr style=\"text-align: right;\">\n",
              "      <th></th>\n",
              "      <th>labels</th>\n",
              "    </tr>\n",
              "  </thead>\n",
              "  <tbody>\n",
              "    <tr>\n",
              "      <th>372</th>\n",
              "      <td>0</td>\n",
              "    </tr>\n",
              "    <tr>\n",
              "      <th>117</th>\n",
              "      <td>0</td>\n",
              "    </tr>\n",
              "    <tr>\n",
              "      <th>299</th>\n",
              "      <td>0</td>\n",
              "    </tr>\n",
              "    <tr>\n",
              "      <th>133</th>\n",
              "      <td>0</td>\n",
              "    </tr>\n",
              "    <tr>\n",
              "      <th>766</th>\n",
              "      <td>1</td>\n",
              "    </tr>\n",
              "    <tr>\n",
              "      <th>529</th>\n",
              "      <td>1</td>\n",
              "    </tr>\n",
              "    <tr>\n",
              "      <th>184</th>\n",
              "      <td>0</td>\n",
              "    </tr>\n",
              "    <tr>\n",
              "      <th>813</th>\n",
              "      <td>1</td>\n",
              "    </tr>\n",
              "    <tr>\n",
              "      <th>247</th>\n",
              "      <td>0</td>\n",
              "    </tr>\n",
              "    <tr>\n",
              "      <th>823</th>\n",
              "      <td>1</td>\n",
              "    </tr>\n",
              "  </tbody>\n",
              "</table>\n",
              "</div>\n",
              "      <button class=\"colab-df-convert\" onclick=\"convertToInteractive('df-45446f21-621b-456c-9edb-346c96900543')\"\n",
              "              title=\"Convert this dataframe to an interactive table.\"\n",
              "              style=\"display:none;\">\n",
              "        \n",
              "  <svg xmlns=\"http://www.w3.org/2000/svg\" height=\"24px\"viewBox=\"0 0 24 24\"\n",
              "       width=\"24px\">\n",
              "    <path d=\"M0 0h24v24H0V0z\" fill=\"none\"/>\n",
              "    <path d=\"M18.56 5.44l.94 2.06.94-2.06 2.06-.94-2.06-.94-.94-2.06-.94 2.06-2.06.94zm-11 1L8.5 8.5l.94-2.06 2.06-.94-2.06-.94L8.5 2.5l-.94 2.06-2.06.94zm10 10l.94 2.06.94-2.06 2.06-.94-2.06-.94-.94-2.06-.94 2.06-2.06.94z\"/><path d=\"M17.41 7.96l-1.37-1.37c-.4-.4-.92-.59-1.43-.59-.52 0-1.04.2-1.43.59L10.3 9.45l-7.72 7.72c-.78.78-.78 2.05 0 2.83L4 21.41c.39.39.9.59 1.41.59.51 0 1.02-.2 1.41-.59l7.78-7.78 2.81-2.81c.8-.78.8-2.07 0-2.86zM5.41 20L4 18.59l7.72-7.72 1.47 1.35L5.41 20z\"/>\n",
              "  </svg>\n",
              "      </button>\n",
              "      \n",
              "  <style>\n",
              "    .colab-df-container {\n",
              "      display:flex;\n",
              "      flex-wrap:wrap;\n",
              "      gap: 12px;\n",
              "    }\n",
              "\n",
              "    .colab-df-convert {\n",
              "      background-color: #E8F0FE;\n",
              "      border: none;\n",
              "      border-radius: 50%;\n",
              "      cursor: pointer;\n",
              "      display: none;\n",
              "      fill: #1967D2;\n",
              "      height: 32px;\n",
              "      padding: 0 0 0 0;\n",
              "      width: 32px;\n",
              "    }\n",
              "\n",
              "    .colab-df-convert:hover {\n",
              "      background-color: #E2EBFA;\n",
              "      box-shadow: 0px 1px 2px rgba(60, 64, 67, 0.3), 0px 1px 3px 1px rgba(60, 64, 67, 0.15);\n",
              "      fill: #174EA6;\n",
              "    }\n",
              "\n",
              "    [theme=dark] .colab-df-convert {\n",
              "      background-color: #3B4455;\n",
              "      fill: #D2E3FC;\n",
              "    }\n",
              "\n",
              "    [theme=dark] .colab-df-convert:hover {\n",
              "      background-color: #434B5C;\n",
              "      box-shadow: 0px 1px 3px 1px rgba(0, 0, 0, 0.15);\n",
              "      filter: drop-shadow(0px 1px 2px rgba(0, 0, 0, 0.3));\n",
              "      fill: #FFFFFF;\n",
              "    }\n",
              "  </style>\n",
              "\n",
              "      <script>\n",
              "        const buttonEl =\n",
              "          document.querySelector('#df-45446f21-621b-456c-9edb-346c96900543 button.colab-df-convert');\n",
              "        buttonEl.style.display =\n",
              "          google.colab.kernel.accessAllowed ? 'block' : 'none';\n",
              "\n",
              "        async function convertToInteractive(key) {\n",
              "          const element = document.querySelector('#df-45446f21-621b-456c-9edb-346c96900543');\n",
              "          const dataTable =\n",
              "            await google.colab.kernel.invokeFunction('convertToInteractive',\n",
              "                                                     [key], {});\n",
              "          if (!dataTable) return;\n",
              "\n",
              "          const docLinkHtml = 'Like what you see? Visit the ' +\n",
              "            '<a target=\"_blank\" href=https://colab.research.google.com/notebooks/data_table.ipynb>data table notebook</a>'\n",
              "            + ' to learn more about interactive tables.';\n",
              "          element.innerHTML = '';\n",
              "          dataTable['output_type'] = 'display_data';\n",
              "          await google.colab.output.renderOutput(dataTable, element);\n",
              "          const docLink = document.createElement('div');\n",
              "          docLink.innerHTML = docLinkHtml;\n",
              "          element.appendChild(docLink);\n",
              "        }\n",
              "      </script>\n",
              "    </div>\n",
              "  </div>\n",
              "  "
            ]
          },
          "metadata": {},
          "execution_count": 40
        }
      ]
    },
    {
      "cell_type": "markdown",
      "source": [
        "#### **Split Data into Train, Validation, and Test Data**"
      ],
      "metadata": {
        "id": "YlnWobCMjuB9"
      }
    },
    {
      "cell_type": "code",
      "source": [
        "# Splitting Data set into Train, Test, and Validation\n",
        "x_train_full, x_test,  y_train_full, y_test = train_test_split(x_train_test, y_train_test, shuffle=True, test_size=0.2,random_state=26)\n",
        "\n",
        "x_train, x_val, y_train, y_val = train_test_split(x_train_full, y_train_full, shuffle=True, test_size=0.2,random_state=26)\n",
        "\n",
        "print(\"Training data shape: {}\".format(x_train.shape))\n",
        "print(\"Validation data shape: {}\".format(x_val.shape))\n",
        "print(\"Testing data shape: {}\".format(x_test.shape))"
      ],
      "metadata": {
        "colab": {
          "base_uri": "https://localhost:8080/"
        },
        "id": "KWZqiUGjknAe",
        "outputId": "31a0011a-87d5-49ef-b699-95425585eb45"
      },
      "execution_count": 41,
      "outputs": [
        {
          "output_type": "stream",
          "name": "stdout",
          "text": [
            "Training data shape: (588, 256, 256, 3)\n",
            "Validation data shape: (148, 256, 256, 3)\n",
            "Testing data shape: (184, 256, 256, 3)\n"
          ]
        }
      ]
    },
    {
      "cell_type": "markdown",
      "source": [
        "#### **Image Preprocessing**"
      ],
      "metadata": {
        "id": "bSlLV3p3lH0p"
      }
    },
    {
      "cell_type": "code",
      "source": [
        "# Image Preprocessing for Training\n",
        "train_datagen = ImageDataGenerator(\n",
        "    rotation_range=30,\n",
        "    fill_mode='nearest',\n",
        "    width_shift_range=0.2,\n",
        "    height_shift_range=0.2,\n",
        "    brightness_range=[0.4,1.5],\n",
        "    zoom_range=0.3\n",
        "    )\n",
        "\n",
        "val_datagen = ImageDataGenerator(rescale=1./255)\n",
        "test_datagen = ImageDataGenerator(rescale=1./255)"
      ],
      "metadata": {
        "id": "IksJDeNqlLJG"
      },
      "execution_count": 43,
      "outputs": []
    },
    {
      "cell_type": "markdown",
      "source": [
        "# VI. Model Definition"
      ],
      "metadata": {
        "id": "KGERVnXThcOQ"
      }
    },
    {
      "cell_type": "markdown",
      "source": [
        "The model that we will be using is CNN Model because we are doing image classification and CNN is one of the common algorithm to use for image classification. We will also test premade model of VGG16, Resnet50, InceptionV3, and Xception."
      ],
      "metadata": {
        "id": "VsERSsnomHeW"
      }
    },
    {
      "cell_type": "markdown",
      "source": [
        "#### **A. Model CNN I**\n"
      ],
      "metadata": {
        "id": "qnR0KfUjlWlF"
      }
    },
    {
      "cell_type": "code",
      "source": [
        "cnn_model = Sequential()\n",
        "\n",
        "cnn_model.add(Conv2D(16,(3,3),input_shape=(256,256,3),activation='relu'))\n",
        "cnn_model.add(MaxPooling2D(3,3))\n",
        "cnn_model.add(Dropout(0.25))\n",
        "\n",
        "cnn_model.add(Conv2D(32,(3,3),activation='relu'))\n",
        "cnn_model.add(MaxPooling2D(2,2))\n",
        "cnn_model.add(Dropout(0.25))\n",
        "\n",
        "cnn_model.add(Conv2D(64,(3,3),activation='relu'))\n",
        "cnn_model.add(MaxPooling2D(2,2))\n",
        "cnn_model.add(Dropout(0.25))\n",
        "\n",
        "cnn_model.add(Flatten())\n",
        "cnn_model.add(Dense(128, activation='relu'))\n",
        "cnn_model.add(Dropout(0.25))\n",
        "cnn_model.add(Dense(1, activation='sigmoid'))\n",
        "\n",
        "cnn_model.compile(loss='binary_crossentropy', optimizer='adam', metrics=['accuracy'])\n",
        "cnn_model.summary()"
      ],
      "metadata": {
        "colab": {
          "base_uri": "https://localhost:8080/"
        },
        "id": "126KOOXQhL8g",
        "outputId": "2e52d2bd-9a87-4d39-93e5-dcba62b43994"
      },
      "execution_count": 49,
      "outputs": [
        {
          "output_type": "stream",
          "name": "stdout",
          "text": [
            "Model: \"sequential_2\"\n",
            "_________________________________________________________________\n",
            " Layer (type)                Output Shape              Param #   \n",
            "=================================================================\n",
            " conv2d_6 (Conv2D)           (None, 254, 254, 16)      448       \n",
            "                                                                 \n",
            " max_pooling2d_6 (MaxPooling  (None, 84, 84, 16)       0         \n",
            " 2D)                                                             \n",
            "                                                                 \n",
            " dropout_8 (Dropout)         (None, 84, 84, 16)        0         \n",
            "                                                                 \n",
            " conv2d_7 (Conv2D)           (None, 82, 82, 32)        4640      \n",
            "                                                                 \n",
            " max_pooling2d_7 (MaxPooling  (None, 41, 41, 32)       0         \n",
            " 2D)                                                             \n",
            "                                                                 \n",
            " dropout_9 (Dropout)         (None, 41, 41, 32)        0         \n",
            "                                                                 \n",
            " conv2d_8 (Conv2D)           (None, 39, 39, 64)        18496     \n",
            "                                                                 \n",
            " max_pooling2d_8 (MaxPooling  (None, 19, 19, 64)       0         \n",
            " 2D)                                                             \n",
            "                                                                 \n",
            " dropout_10 (Dropout)        (None, 19, 19, 64)        0         \n",
            "                                                                 \n",
            " flatten_2 (Flatten)         (None, 23104)             0         \n",
            "                                                                 \n",
            " dense_4 (Dense)             (None, 128)               2957440   \n",
            "                                                                 \n",
            " dropout_11 (Dropout)        (None, 128)               0         \n",
            "                                                                 \n",
            " dense_5 (Dense)             (None, 1)                 129       \n",
            "                                                                 \n",
            "=================================================================\n",
            "Total params: 2,981,153\n",
            "Trainable params: 2,981,153\n",
            "Non-trainable params: 0\n",
            "_________________________________________________________________\n"
          ]
        }
      ]
    },
    {
      "cell_type": "code",
      "source": [
        "# Definition Callbacks\n",
        "es_cnn = [EarlyStopping(monitor='val_loss', verbose=1,patience=10,restore_best_weights=True)]"
      ],
      "metadata": {
        "id": "6-G-R41wo0RF"
      },
      "execution_count": 50,
      "outputs": []
    },
    {
      "cell_type": "markdown",
      "source": [
        "#### **B. Model Training Computer Vision with VGG16**"
      ],
      "metadata": {
        "id": "UOkupONxoe5i"
      }
    },
    {
      "cell_type": "code",
      "source": [
        "# Definition & Import of Transfer Learning with Model VGG16\n",
        "from tensorflow.keras.applications import VGG16\n",
        "\n",
        "model_vgg= VGG16(include_top=False, weights='imagenet',input_shape=(256,256,3),classes=2)"
      ],
      "metadata": {
        "colab": {
          "base_uri": "https://localhost:8080/"
        },
        "id": "1BTLly2hpsfN",
        "outputId": "58fdb4cd-7a6f-4565-d0f4-b239ad869e79"
      },
      "execution_count": 53,
      "outputs": [
        {
          "output_type": "stream",
          "name": "stdout",
          "text": [
            "Downloading data from https://storage.googleapis.com/tensorflow/keras-applications/vgg16/vgg16_weights_tf_dim_ordering_tf_kernels_notop.h5\n",
            "58892288/58889256 [==============================] - 0s 0us/step\n",
            "58900480/58889256 [==============================] - 0s 0us/step\n"
          ]
        }
      ]
    },
    {
      "cell_type": "code",
      "source": [
        "# Taking Weight of VGG16 Model to Train our model\n",
        "x_train_vgg = model_vgg.predict(x_train,verbose=1)\n",
        "x_val_vgg = model_vgg.predict(x_val,verbose=1)"
      ],
      "metadata": {
        "colab": {
          "base_uri": "https://localhost:8080/"
        },
        "id": "dloNuTP6p3Xf",
        "outputId": "5731330d-311e-40d6-b1c4-c94e470a0bf8"
      },
      "execution_count": 54,
      "outputs": [
        {
          "output_type": "stream",
          "name": "stdout",
          "text": [
            "19/19 [==============================] - 8s 235ms/step\n",
            "5/5 [==============================] - 3s 662ms/step\n"
          ]
        }
      ]
    },
    {
      "cell_type": "code",
      "source": [
        "# vgg_model arsitecture \n",
        "vgg_model = Sequential([\n",
        "    Flatten(input_shape=[8,8,512]),\n",
        "    Dense(256,activation = \"relu\"),\n",
        "    Dropout(rate=0.5),\n",
        "    Dense(1, activation = \"sigmoid\")\n",
        "])\n",
        "vgg_model.compile(optimizer=\"adam\",loss=\"binary_crossentropy\",metrics=[\"accuracy\"])"
      ],
      "metadata": {
        "id": "fGElQRoqp4Wh"
      },
      "execution_count": 56,
      "outputs": []
    },
    {
      "cell_type": "code",
      "source": [
        "# Callbacks definition\n",
        "es_vgg = [EarlyStopping(monitor='val_loss', verbose=1,patience=10,restore_best_weights=True)]"
      ],
      "metadata": {
        "id": "dFR4Mn67qGGi"
      },
      "execution_count": 57,
      "outputs": []
    },
    {
      "cell_type": "markdown",
      "source": [
        "#### **C. Model Training Computer Vision with ResNet50**"
      ],
      "metadata": {
        "id": "locClbW6ofAC"
      }
    },
    {
      "cell_type": "code",
      "source": [
        "# Definition & Import of Transfer Learning with Model ResNet50\n",
        "from tensorflow.keras.applications import ResNet50\n",
        "\n",
        "model_resnet50= ResNet50(include_top=False, weights='imagenet',classes= 2,input_shape=(256,256,3))"
      ],
      "metadata": {
        "colab": {
          "base_uri": "https://localhost:8080/"
        },
        "id": "Uref9PKTqm-S",
        "outputId": "4d3f4fe2-0c71-4725-da76-c1f376ac385d"
      },
      "execution_count": 60,
      "outputs": [
        {
          "output_type": "stream",
          "name": "stdout",
          "text": [
            "Downloading data from https://storage.googleapis.com/tensorflow/keras-applications/resnet/resnet50_weights_tf_dim_ordering_tf_kernels_notop.h5\n",
            "94773248/94765736 [==============================] - 1s 0us/step\n",
            "94781440/94765736 [==============================] - 1s 0us/step\n"
          ]
        }
      ]
    },
    {
      "cell_type": "code",
      "source": [
        "# Taking Weight of ResNet50 Model to Train our model\n",
        "x_train_resnet50 = model_resnet50.predict(x_train,verbose=1)\n",
        "x_val_resnet50 = model_resnet50.predict(x_val,verbose=1)"
      ],
      "metadata": {
        "colab": {
          "base_uri": "https://localhost:8080/"
        },
        "id": "h7Cqu9QKqqLg",
        "outputId": "7fb2eb07-bce0-4237-98b9-300618de5427"
      },
      "execution_count": 61,
      "outputs": [
        {
          "output_type": "stream",
          "name": "stdout",
          "text": [
            "19/19 [==============================] - 4s 136ms/step\n",
            "5/5 [==============================] - 1s 275ms/step\n"
          ]
        }
      ]
    },
    {
      "cell_type": "code",
      "source": [
        "# ResNet50_model arsitecture \n",
        "resnet50_model = Sequential([\n",
        "    Flatten(input_shape=[8,8,2048]),\n",
        "    Dense(256,activation = \"relu\"),\n",
        "    Dropout(rate=0.5),\n",
        "    Dense(1, activation = \"sigmoid\")\n",
        "])\n",
        "resnet50_model.compile(optimizer=\"adam\",loss=\"binary_crossentropy\",metrics=[\"accuracy\"])"
      ],
      "metadata": {
        "id": "YBltLevhqqR_"
      },
      "execution_count": 63,
      "outputs": []
    },
    {
      "cell_type": "code",
      "source": [
        "# Callbacks definition\n",
        "es_resnet50 = [EarlyStopping(monitor='val_loss', verbose=1,patience=10,restore_best_weights=True)]"
      ],
      "metadata": {
        "id": "OJBMFmKnqqb5"
      },
      "execution_count": 64,
      "outputs": []
    },
    {
      "cell_type": "markdown",
      "source": [
        "#### **D. Model Training Computer Vision with InceptionV3**"
      ],
      "metadata": {
        "id": "1HFndHygpkDx"
      }
    },
    {
      "cell_type": "code",
      "source": [
        "# Definition & Import of Transfer Learning with Model InceptionV3\n",
        "from tensorflow.keras.applications import InceptionV3\n",
        "\n",
        "model_InceptionV3= InceptionV3(include_top=False, weights='imagenet',input_shape=(256,256,3),classes=2)"
      ],
      "metadata": {
        "colab": {
          "base_uri": "https://localhost:8080/"
        },
        "id": "zqUJDRQLq5w_",
        "outputId": "b4c63d33-9555-440b-a6cf-9415b268234e"
      },
      "execution_count": 66,
      "outputs": [
        {
          "output_type": "stream",
          "name": "stdout",
          "text": [
            "Downloading data from https://storage.googleapis.com/tensorflow/keras-applications/inception_v3/inception_v3_weights_tf_dim_ordering_tf_kernels_notop.h5\n",
            "87916544/87910968 [==============================] - 0s 0us/step\n",
            "87924736/87910968 [==============================] - 0s 0us/step\n"
          ]
        }
      ]
    },
    {
      "cell_type": "code",
      "source": [
        "# Taking Weight of InceptionV3 Model to Train our model\n",
        "x_train_InceptionV3 = model_InceptionV3.predict(x_train,verbose=1)\n",
        "x_val_InceptionV3 = model_InceptionV3.predict(x_val,verbose=1)"
      ],
      "metadata": {
        "colab": {
          "base_uri": "https://localhost:8080/"
        },
        "id": "lkEc6yL_q-re",
        "outputId": "aeb26cc5-33cf-403c-dbad-e19da825c915"
      },
      "execution_count": 67,
      "outputs": [
        {
          "output_type": "stream",
          "name": "stdout",
          "text": [
            "19/19 [==============================] - 5s 123ms/step\n",
            "5/5 [==============================] - 1s 338ms/step\n"
          ]
        }
      ]
    },
    {
      "cell_type": "code",
      "source": [
        "# InceptionV3_model arsitecture \n",
        "InceptionV3_model = Sequential([\n",
        "    Flatten(input_shape=[6,6,2048]),\n",
        "    Dense(256,activation = \"relu\"),\n",
        "    Dropout(rate=0.5),\n",
        "    Dense(1, activation = \"sigmoid\")\n",
        "])\n",
        "InceptionV3_model.compile(optimizer=\"adam\",loss=\"binary_crossentropy\",metrics=[\"acc\"])"
      ],
      "metadata": {
        "id": "ixBIc_CBq-xv"
      },
      "execution_count": 68,
      "outputs": []
    },
    {
      "cell_type": "code",
      "source": [
        "# Callbacks definition\n",
        "es_inceptionV3 = [EarlyStopping(monitor='val_loss', verbose=1,patience=10,restore_best_weights=True)]"
      ],
      "metadata": {
        "id": "beRhExsaq-7u"
      },
      "execution_count": 69,
      "outputs": []
    },
    {
      "cell_type": "markdown",
      "source": [
        "#### **E. Model Training Computer Vision with Xception**"
      ],
      "metadata": {
        "id": "Vu890vCtofGf"
      }
    },
    {
      "cell_type": "code",
      "source": [
        "# Definition & Import of Transfer Learning with Model Xception\n",
        "from tensorflow.keras.applications import Xception\n",
        "\n",
        "model_xception= Xception(include_top=False, weights='imagenet',input_shape=(256,256,3),classes=2)"
      ],
      "metadata": {
        "colab": {
          "base_uri": "https://localhost:8080/"
        },
        "id": "9oJdDx4krNhj",
        "outputId": "0b0bf327-e001-4eb8-cf42-548e22611142"
      },
      "execution_count": 71,
      "outputs": [
        {
          "output_type": "stream",
          "name": "stdout",
          "text": [
            "Downloading data from https://storage.googleapis.com/tensorflow/keras-applications/xception/xception_weights_tf_dim_ordering_tf_kernels_notop.h5\n",
            "83689472/83683744 [==============================] - 1s 0us/step\n",
            "83697664/83683744 [==============================] - 1s 0us/step\n"
          ]
        }
      ]
    },
    {
      "cell_type": "code",
      "source": [
        "# Taking Weight of Xception Model to Train our model\n",
        "x_train_xception = model_xception.predict(x_train,verbose=1)\n",
        "x_val_xception = model_xception.predict(x_val,verbose=1)"
      ],
      "metadata": {
        "colab": {
          "base_uri": "https://localhost:8080/"
        },
        "id": "Pr2DIrtqrNny",
        "outputId": "0799f80d-7b92-46b3-ad82-318c5ef26875"
      },
      "execution_count": 72,
      "outputs": [
        {
          "output_type": "stream",
          "name": "stdout",
          "text": [
            "19/19 [==============================] - 5s 180ms/step\n",
            "5/5 [==============================] - 2s 381ms/step\n"
          ]
        }
      ]
    },
    {
      "cell_type": "code",
      "source": [
        "# Xception_model arsitecture \n",
        "xception_model = Sequential([\n",
        "    Flatten(input_shape=[8,8,2048]),\n",
        "    Dense(256,activation = \"relu\"),\n",
        "    Dropout(rate=0.5),\n",
        "    Dense(1, activation = \"sigmoid\")\n",
        "])\n",
        "xception_model.compile(optimizer=\"adam\",loss=\"binary_crossentropy\",metrics=[\"acc\"])"
      ],
      "metadata": {
        "id": "El_4YmtprNtx"
      },
      "execution_count": 73,
      "outputs": []
    },
    {
      "cell_type": "code",
      "source": [
        "# Callbacks definition\n",
        "es_xception = [EarlyStopping(monitor='val_loss', verbose=1,patience=10,restore_best_weights=True)]"
      ],
      "metadata": {
        "id": "gepBddsurNym"
      },
      "execution_count": 75,
      "outputs": []
    },
    {
      "cell_type": "markdown",
      "source": [
        "# VII. Model Training"
      ],
      "metadata": {
        "id": "sfSDXoxGBNFG"
      }
    },
    {
      "cell_type": "markdown",
      "source": [
        "#### **A. Model CNN I**"
      ],
      "metadata": {
        "id": "NEN1Az-aqOR2"
      }
    },
    {
      "cell_type": "code",
      "source": [
        "# Training the model\n",
        "hist_cnn =  cnn_model.fit(x_train,y_train,batch_size=32,\n",
        "            validation_data=(x_val,y_val),validation_batch_size=32,\n",
        "            epochs=100,callbacks=es_cnn)"
      ],
      "metadata": {
        "colab": {
          "base_uri": "https://localhost:8080/"
        },
        "id": "ZOWKwDlN4jVN",
        "outputId": "749181c1-e774-4985-bb27-3477ad40b8ce"
      },
      "execution_count": 51,
      "outputs": [
        {
          "output_type": "stream",
          "name": "stdout",
          "text": [
            "Epoch 1/100\n",
            "19/19 [==============================] - 14s 72ms/step - loss: 1.1322 - accuracy: 0.4694 - val_loss: 0.6907 - val_accuracy: 0.5270\n",
            "Epoch 2/100\n",
            "19/19 [==============================] - 1s 35ms/step - loss: 0.6875 - accuracy: 0.5527 - val_loss: 0.6891 - val_accuracy: 0.5270\n",
            "Epoch 3/100\n",
            "19/19 [==============================] - 1s 34ms/step - loss: 0.6846 - accuracy: 0.5527 - val_loss: 0.6851 - val_accuracy: 0.5270\n",
            "Epoch 4/100\n",
            "19/19 [==============================] - 1s 35ms/step - loss: 0.6848 - accuracy: 0.5425 - val_loss: 0.6837 - val_accuracy: 0.5270\n",
            "Epoch 5/100\n",
            "19/19 [==============================] - 1s 35ms/step - loss: 0.6667 - accuracy: 0.5527 - val_loss: 0.6657 - val_accuracy: 0.5270\n",
            "Epoch 6/100\n",
            "19/19 [==============================] - 1s 36ms/step - loss: 0.6505 - accuracy: 0.5867 - val_loss: 0.6477 - val_accuracy: 0.5473\n",
            "Epoch 7/100\n",
            "19/19 [==============================] - 1s 36ms/step - loss: 0.6047 - accuracy: 0.6412 - val_loss: 0.6026 - val_accuracy: 0.6892\n",
            "Epoch 8/100\n",
            "19/19 [==============================] - 1s 37ms/step - loss: 0.5628 - accuracy: 0.7313 - val_loss: 0.5527 - val_accuracy: 0.6959\n",
            "Epoch 9/100\n",
            "19/19 [==============================] - 1s 36ms/step - loss: 0.4736 - accuracy: 0.7772 - val_loss: 0.5087 - val_accuracy: 0.7838\n",
            "Epoch 10/100\n",
            "19/19 [==============================] - 1s 36ms/step - loss: 0.4026 - accuracy: 0.8214 - val_loss: 0.3909 - val_accuracy: 0.8649\n",
            "Epoch 11/100\n",
            "19/19 [==============================] - 1s 35ms/step - loss: 0.2860 - accuracy: 0.8912 - val_loss: 0.3204 - val_accuracy: 0.8784\n",
            "Epoch 12/100\n",
            "19/19 [==============================] - 1s 34ms/step - loss: 0.2022 - accuracy: 0.9235 - val_loss: 0.1864 - val_accuracy: 0.9257\n",
            "Epoch 13/100\n",
            "19/19 [==============================] - 1s 35ms/step - loss: 0.1470 - accuracy: 0.9405 - val_loss: 0.1674 - val_accuracy: 0.9459\n",
            "Epoch 14/100\n",
            "19/19 [==============================] - 1s 35ms/step - loss: 0.0909 - accuracy: 0.9745 - val_loss: 0.1155 - val_accuracy: 0.9730\n",
            "Epoch 15/100\n",
            "19/19 [==============================] - 1s 35ms/step - loss: 0.0673 - accuracy: 0.9864 - val_loss: 0.0694 - val_accuracy: 0.9797\n",
            "Epoch 16/100\n",
            "19/19 [==============================] - 1s 35ms/step - loss: 0.0756 - accuracy: 0.9847 - val_loss: 0.1177 - val_accuracy: 0.9459\n",
            "Epoch 17/100\n",
            "19/19 [==============================] - 1s 35ms/step - loss: 0.0621 - accuracy: 0.9813 - val_loss: 0.1112 - val_accuracy: 0.9595\n",
            "Epoch 18/100\n",
            "19/19 [==============================] - 1s 34ms/step - loss: 0.0413 - accuracy: 0.9915 - val_loss: 0.1026 - val_accuracy: 0.9730\n",
            "Epoch 19/100\n",
            "19/19 [==============================] - 1s 35ms/step - loss: 0.0263 - accuracy: 0.9932 - val_loss: 0.1662 - val_accuracy: 0.9595\n",
            "Epoch 20/100\n",
            "19/19 [==============================] - 1s 35ms/step - loss: 0.0088 - accuracy: 0.9983 - val_loss: 0.2116 - val_accuracy: 0.9595\n",
            "Epoch 21/100\n",
            "19/19 [==============================] - 1s 35ms/step - loss: 0.0121 - accuracy: 0.9966 - val_loss: 0.0486 - val_accuracy: 0.9797\n",
            "Epoch 22/100\n",
            "19/19 [==============================] - 1s 35ms/step - loss: 0.0125 - accuracy: 0.9932 - val_loss: 0.1496 - val_accuracy: 0.9662\n",
            "Epoch 23/100\n",
            "19/19 [==============================] - 1s 35ms/step - loss: 0.0164 - accuracy: 0.9949 - val_loss: 0.5248 - val_accuracy: 0.9392\n",
            "Epoch 24/100\n",
            "19/19 [==============================] - 1s 35ms/step - loss: 0.0270 - accuracy: 0.9915 - val_loss: 0.3886 - val_accuracy: 0.9324\n",
            "Epoch 25/100\n",
            "19/19 [==============================] - 1s 35ms/step - loss: 0.0090 - accuracy: 0.9966 - val_loss: 0.1600 - val_accuracy: 0.9662\n",
            "Epoch 26/100\n",
            "19/19 [==============================] - 1s 34ms/step - loss: 0.0088 - accuracy: 0.9983 - val_loss: 0.2637 - val_accuracy: 0.9595\n",
            "Epoch 27/100\n",
            "19/19 [==============================] - 1s 35ms/step - loss: 0.0150 - accuracy: 0.9932 - val_loss: 0.2124 - val_accuracy: 0.9527\n",
            "Epoch 28/100\n",
            "19/19 [==============================] - 1s 35ms/step - loss: 0.0085 - accuracy: 0.9983 - val_loss: 0.1720 - val_accuracy: 0.9662\n",
            "Epoch 29/100\n",
            "19/19 [==============================] - 1s 34ms/step - loss: 0.0159 - accuracy: 0.9949 - val_loss: 0.1235 - val_accuracy: 0.9730\n",
            "Epoch 30/100\n",
            "19/19 [==============================] - 1s 34ms/step - loss: 0.0165 - accuracy: 0.9966 - val_loss: 0.1356 - val_accuracy: 0.9527\n",
            "Epoch 31/100\n",
            "19/19 [==============================] - 1s 35ms/step - loss: 0.0244 - accuracy: 0.9949 - val_loss: 0.0450 - val_accuracy: 0.9865\n",
            "Epoch 32/100\n",
            "19/19 [==============================] - 1s 35ms/step - loss: 0.0256 - accuracy: 0.9932 - val_loss: 0.1385 - val_accuracy: 0.9662\n",
            "Epoch 33/100\n",
            "19/19 [==============================] - 1s 34ms/step - loss: 0.0253 - accuracy: 0.9898 - val_loss: 0.3941 - val_accuracy: 0.9595\n",
            "Epoch 34/100\n",
            "19/19 [==============================] - 1s 34ms/step - loss: 0.0268 - accuracy: 0.9949 - val_loss: 0.2311 - val_accuracy: 0.9595\n",
            "Epoch 35/100\n",
            "19/19 [==============================] - 1s 35ms/step - loss: 0.0081 - accuracy: 0.9983 - val_loss: 0.1629 - val_accuracy: 0.9595\n",
            "Epoch 36/100\n",
            "19/19 [==============================] - 1s 34ms/step - loss: 0.0091 - accuracy: 0.9966 - val_loss: 0.1913 - val_accuracy: 0.9595\n",
            "Epoch 37/100\n",
            "19/19 [==============================] - 1s 36ms/step - loss: 0.0041 - accuracy: 0.9983 - val_loss: 0.2194 - val_accuracy: 0.9595\n",
            "Epoch 38/100\n",
            "19/19 [==============================] - 1s 33ms/step - loss: 0.0078 - accuracy: 0.9966 - val_loss: 0.1832 - val_accuracy: 0.9595\n",
            "Epoch 39/100\n",
            "19/19 [==============================] - 1s 34ms/step - loss: 0.0049 - accuracy: 0.9983 - val_loss: 0.1627 - val_accuracy: 0.9797\n",
            "Epoch 40/100\n",
            "19/19 [==============================] - 1s 35ms/step - loss: 0.0051 - accuracy: 0.9983 - val_loss: 0.2214 - val_accuracy: 0.9662\n",
            "Epoch 41/100\n",
            "17/19 [=========================>....] - ETA: 0s - loss: 0.0027 - accuracy: 1.0000Restoring model weights from the end of the best epoch: 31.\n",
            "19/19 [==============================] - 1s 35ms/step - loss: 0.0026 - accuracy: 1.0000 - val_loss: 0.1660 - val_accuracy: 0.9797\n",
            "Epoch 41: early stopping\n"
          ]
        }
      ]
    },
    {
      "cell_type": "markdown",
      "source": [
        "#### **B. Model Training Computer Vision with VGG16**"
      ],
      "metadata": {
        "id": "ziU2wDhFqPmC"
      }
    },
    {
      "cell_type": "code",
      "source": [
        "hist_vgg = vgg_model.fit(x_train_vgg,y_train,epochs=100,batch_size=32,validation_data=(x_val_vgg,y_val),callbacks=[es_vgg])"
      ],
      "metadata": {
        "colab": {
          "base_uri": "https://localhost:8080/"
        },
        "id": "qJPDxhlwqhCr",
        "outputId": "f0be9766-d829-4b4b-b7c6-eaa0029ba98e"
      },
      "execution_count": 58,
      "outputs": [
        {
          "output_type": "stream",
          "name": "stdout",
          "text": [
            "Epoch 1/100\n",
            "19/19 [==============================] - 1s 15ms/step - loss: 2.8542 - accuracy: 0.5612 - val_loss: 0.5040 - val_accuracy: 0.7635\n",
            "Epoch 2/100\n",
            "19/19 [==============================] - 0s 8ms/step - loss: 0.5241 - accuracy: 0.7959 - val_loss: 0.2456 - val_accuracy: 0.9459\n",
            "Epoch 3/100\n",
            "19/19 [==============================] - 0s 7ms/step - loss: 0.2331 - accuracy: 0.9133 - val_loss: 0.1752 - val_accuracy: 0.9730\n",
            "Epoch 4/100\n",
            "19/19 [==============================] - 0s 8ms/step - loss: 0.1193 - accuracy: 0.9660 - val_loss: 0.1151 - val_accuracy: 0.9865\n",
            "Epoch 5/100\n",
            "19/19 [==============================] - 0s 8ms/step - loss: 0.0845 - accuracy: 0.9779 - val_loss: 0.0956 - val_accuracy: 0.9797\n",
            "Epoch 6/100\n",
            "19/19 [==============================] - 0s 8ms/step - loss: 0.0691 - accuracy: 0.9830 - val_loss: 0.0721 - val_accuracy: 0.9932\n",
            "Epoch 7/100\n",
            "19/19 [==============================] - 0s 8ms/step - loss: 0.0513 - accuracy: 0.9898 - val_loss: 0.0548 - val_accuracy: 0.9865\n",
            "Epoch 8/100\n",
            "19/19 [==============================] - 0s 8ms/step - loss: 0.0408 - accuracy: 0.9983 - val_loss: 0.0463 - val_accuracy: 0.9932\n",
            "Epoch 9/100\n",
            "19/19 [==============================] - 0s 8ms/step - loss: 0.0356 - accuracy: 0.9966 - val_loss: 0.0420 - val_accuracy: 1.0000\n",
            "Epoch 10/100\n",
            "19/19 [==============================] - 0s 8ms/step - loss: 0.0247 - accuracy: 0.9983 - val_loss: 0.0373 - val_accuracy: 1.0000\n",
            "Epoch 11/100\n",
            "19/19 [==============================] - 0s 8ms/step - loss: 0.0228 - accuracy: 0.9966 - val_loss: 0.0305 - val_accuracy: 1.0000\n",
            "Epoch 12/100\n",
            "19/19 [==============================] - 0s 7ms/step - loss: 0.0184 - accuracy: 0.9983 - val_loss: 0.0364 - val_accuracy: 0.9865\n",
            "Epoch 13/100\n",
            "19/19 [==============================] - 0s 8ms/step - loss: 0.0173 - accuracy: 0.9983 - val_loss: 0.0264 - val_accuracy: 1.0000\n",
            "Epoch 14/100\n",
            "19/19 [==============================] - 0s 8ms/step - loss: 0.0153 - accuracy: 1.0000 - val_loss: 0.0254 - val_accuracy: 1.0000\n",
            "Epoch 15/100\n",
            "19/19 [==============================] - 0s 8ms/step - loss: 0.0130 - accuracy: 1.0000 - val_loss: 0.0241 - val_accuracy: 1.0000\n",
            "Epoch 16/100\n",
            "19/19 [==============================] - 0s 7ms/step - loss: 0.0122 - accuracy: 0.9983 - val_loss: 0.0243 - val_accuracy: 1.0000\n",
            "Epoch 17/100\n",
            "19/19 [==============================] - 0s 7ms/step - loss: 0.0117 - accuracy: 1.0000 - val_loss: 0.0276 - val_accuracy: 1.0000\n",
            "Epoch 18/100\n",
            "19/19 [==============================] - 0s 7ms/step - loss: 0.0108 - accuracy: 1.0000 - val_loss: 0.0243 - val_accuracy: 1.0000\n",
            "Epoch 19/100\n",
            "19/19 [==============================] - 0s 7ms/step - loss: 0.0115 - accuracy: 1.0000 - val_loss: 0.0244 - val_accuracy: 1.0000\n",
            "Epoch 20/100\n",
            "19/19 [==============================] - 0s 8ms/step - loss: 0.0090 - accuracy: 1.0000 - val_loss: 0.0177 - val_accuracy: 1.0000\n",
            "Epoch 21/100\n",
            "19/19 [==============================] - 0s 8ms/step - loss: 0.0065 - accuracy: 1.0000 - val_loss: 0.0172 - val_accuracy: 1.0000\n",
            "Epoch 22/100\n",
            "19/19 [==============================] - 0s 7ms/step - loss: 0.0056 - accuracy: 1.0000 - val_loss: 0.0175 - val_accuracy: 1.0000\n",
            "Epoch 23/100\n",
            "19/19 [==============================] - 0s 8ms/step - loss: 0.0090 - accuracy: 0.9983 - val_loss: 0.0170 - val_accuracy: 1.0000\n",
            "Epoch 24/100\n",
            "19/19 [==============================] - 0s 8ms/step - loss: 0.0056 - accuracy: 1.0000 - val_loss: 0.0151 - val_accuracy: 1.0000\n",
            "Epoch 25/100\n",
            "19/19 [==============================] - 0s 8ms/step - loss: 0.0050 - accuracy: 1.0000 - val_loss: 0.0145 - val_accuracy: 1.0000\n",
            "Epoch 26/100\n",
            "19/19 [==============================] - 0s 8ms/step - loss: 0.0048 - accuracy: 1.0000 - val_loss: 0.0140 - val_accuracy: 1.0000\n",
            "Epoch 27/100\n",
            "19/19 [==============================] - 0s 7ms/step - loss: 0.0045 - accuracy: 1.0000 - val_loss: 0.0149 - val_accuracy: 1.0000\n",
            "Epoch 28/100\n",
            "19/19 [==============================] - 0s 7ms/step - loss: 0.0042 - accuracy: 1.0000 - val_loss: 0.0144 - val_accuracy: 1.0000\n",
            "Epoch 29/100\n",
            "19/19 [==============================] - 0s 7ms/step - loss: 0.0030 - accuracy: 1.0000 - val_loss: 0.0179 - val_accuracy: 1.0000\n",
            "Epoch 30/100\n",
            "19/19 [==============================] - 0s 7ms/step - loss: 0.0034 - accuracy: 1.0000 - val_loss: 0.0162 - val_accuracy: 1.0000\n",
            "Epoch 31/100\n",
            "19/19 [==============================] - 0s 8ms/step - loss: 0.0034 - accuracy: 1.0000 - val_loss: 0.0131 - val_accuracy: 1.0000\n",
            "Epoch 32/100\n",
            "19/19 [==============================] - 0s 7ms/step - loss: 0.0037 - accuracy: 1.0000 - val_loss: 0.0158 - val_accuracy: 1.0000\n",
            "Epoch 33/100\n",
            "19/19 [==============================] - 0s 8ms/step - loss: 0.0034 - accuracy: 1.0000 - val_loss: 0.0115 - val_accuracy: 1.0000\n",
            "Epoch 34/100\n",
            "19/19 [==============================] - 0s 7ms/step - loss: 0.0033 - accuracy: 1.0000 - val_loss: 0.0126 - val_accuracy: 1.0000\n",
            "Epoch 35/100\n",
            "19/19 [==============================] - 0s 7ms/step - loss: 0.0034 - accuracy: 1.0000 - val_loss: 0.0134 - val_accuracy: 1.0000\n",
            "Epoch 36/100\n",
            "19/19 [==============================] - 0s 8ms/step - loss: 0.0029 - accuracy: 1.0000 - val_loss: 0.0105 - val_accuracy: 1.0000\n",
            "Epoch 37/100\n",
            "19/19 [==============================] - 0s 8ms/step - loss: 0.0039 - accuracy: 1.0000 - val_loss: 0.0099 - val_accuracy: 1.0000\n",
            "Epoch 38/100\n",
            "19/19 [==============================] - 0s 7ms/step - loss: 0.0026 - accuracy: 1.0000 - val_loss: 0.0110 - val_accuracy: 1.0000\n",
            "Epoch 39/100\n",
            "19/19 [==============================] - 0s 7ms/step - loss: 0.0039 - accuracy: 1.0000 - val_loss: 0.0106 - val_accuracy: 1.0000\n",
            "Epoch 40/100\n",
            "19/19 [==============================] - 0s 7ms/step - loss: 0.0027 - accuracy: 1.0000 - val_loss: 0.0111 - val_accuracy: 1.0000\n",
            "Epoch 41/100\n",
            "19/19 [==============================] - 0s 8ms/step - loss: 0.0020 - accuracy: 1.0000 - val_loss: 0.0090 - val_accuracy: 1.0000\n",
            "Epoch 42/100\n",
            "19/19 [==============================] - 0s 7ms/step - loss: 0.0019 - accuracy: 1.0000 - val_loss: 0.0091 - val_accuracy: 1.0000\n",
            "Epoch 43/100\n",
            "19/19 [==============================] - 0s 7ms/step - loss: 0.0018 - accuracy: 1.0000 - val_loss: 0.0105 - val_accuracy: 1.0000\n",
            "Epoch 44/100\n",
            "19/19 [==============================] - 0s 7ms/step - loss: 0.0014 - accuracy: 1.0000 - val_loss: 0.0091 - val_accuracy: 1.0000\n",
            "Epoch 45/100\n",
            "19/19 [==============================] - 0s 7ms/step - loss: 0.0022 - accuracy: 1.0000 - val_loss: 0.0101 - val_accuracy: 1.0000\n",
            "Epoch 46/100\n",
            "19/19 [==============================] - 0s 8ms/step - loss: 0.0020 - accuracy: 1.0000 - val_loss: 0.0088 - val_accuracy: 1.0000\n",
            "Epoch 47/100\n",
            "19/19 [==============================] - 0s 7ms/step - loss: 0.0023 - accuracy: 1.0000 - val_loss: 0.0236 - val_accuracy: 0.9797\n",
            "Epoch 48/100\n",
            "19/19 [==============================] - 0s 7ms/step - loss: 0.0023 - accuracy: 1.0000 - val_loss: 0.0191 - val_accuracy: 0.9932\n",
            "Epoch 49/100\n",
            "19/19 [==============================] - 0s 7ms/step - loss: 0.0024 - accuracy: 1.0000 - val_loss: 0.0099 - val_accuracy: 1.0000\n",
            "Epoch 50/100\n",
            "19/19 [==============================] - 0s 8ms/step - loss: 0.0016 - accuracy: 1.0000 - val_loss: 0.0072 - val_accuracy: 1.0000\n",
            "Epoch 51/100\n",
            "19/19 [==============================] - 0s 7ms/step - loss: 0.0020 - accuracy: 1.0000 - val_loss: 0.0085 - val_accuracy: 1.0000\n",
            "Epoch 52/100\n",
            "19/19 [==============================] - 0s 8ms/step - loss: 0.0016 - accuracy: 1.0000 - val_loss: 0.0071 - val_accuracy: 1.0000\n",
            "Epoch 53/100\n",
            "19/19 [==============================] - 0s 7ms/step - loss: 9.2723e-04 - accuracy: 1.0000 - val_loss: 0.0074 - val_accuracy: 1.0000\n",
            "Epoch 54/100\n",
            "19/19 [==============================] - 0s 7ms/step - loss: 0.0010 - accuracy: 1.0000 - val_loss: 0.0068 - val_accuracy: 1.0000\n",
            "Epoch 55/100\n",
            "19/19 [==============================] - 0s 7ms/step - loss: 0.0016 - accuracy: 1.0000 - val_loss: 0.0078 - val_accuracy: 1.0000\n",
            "Epoch 56/100\n",
            "19/19 [==============================] - 0s 7ms/step - loss: 0.0011 - accuracy: 1.0000 - val_loss: 0.0074 - val_accuracy: 1.0000\n",
            "Epoch 57/100\n",
            "19/19 [==============================] - 0s 8ms/step - loss: 9.5696e-04 - accuracy: 1.0000 - val_loss: 0.0067 - val_accuracy: 1.0000\n",
            "Epoch 58/100\n",
            "19/19 [==============================] - 0s 7ms/step - loss: 0.0012 - accuracy: 1.0000 - val_loss: 0.0085 - val_accuracy: 1.0000\n",
            "Epoch 59/100\n",
            "19/19 [==============================] - 0s 7ms/step - loss: 6.6417e-04 - accuracy: 1.0000 - val_loss: 0.0068 - val_accuracy: 1.0000\n",
            "Epoch 60/100\n",
            "19/19 [==============================] - 0s 7ms/step - loss: 7.4357e-04 - accuracy: 1.0000 - val_loss: 0.0065 - val_accuracy: 1.0000\n",
            "Epoch 61/100\n",
            "19/19 [==============================] - 0s 7ms/step - loss: 0.0011 - accuracy: 1.0000 - val_loss: 0.0069 - val_accuracy: 1.0000\n",
            "Epoch 62/100\n",
            "19/19 [==============================] - 0s 8ms/step - loss: 0.0015 - accuracy: 1.0000 - val_loss: 0.0060 - val_accuracy: 1.0000\n",
            "Epoch 63/100\n",
            "19/19 [==============================] - 0s 8ms/step - loss: 0.0014 - accuracy: 1.0000 - val_loss: 0.0056 - val_accuracy: 1.0000\n",
            "Epoch 64/100\n",
            "19/19 [==============================] - 0s 8ms/step - loss: 9.0459e-04 - accuracy: 1.0000 - val_loss: 0.0055 - val_accuracy: 1.0000\n",
            "Epoch 65/100\n",
            "19/19 [==============================] - 0s 8ms/step - loss: 0.0010 - accuracy: 1.0000 - val_loss: 0.0054 - val_accuracy: 1.0000\n",
            "Epoch 66/100\n",
            "19/19 [==============================] - 0s 7ms/step - loss: 7.1708e-04 - accuracy: 1.0000 - val_loss: 0.0058 - val_accuracy: 1.0000\n",
            "Epoch 67/100\n",
            "19/19 [==============================] - 0s 8ms/step - loss: 8.0927e-04 - accuracy: 1.0000 - val_loss: 0.0052 - val_accuracy: 1.0000\n",
            "Epoch 68/100\n",
            "19/19 [==============================] - 0s 8ms/step - loss: 8.0759e-04 - accuracy: 1.0000 - val_loss: 0.0051 - val_accuracy: 1.0000\n",
            "Epoch 69/100\n",
            "19/19 [==============================] - 0s 7ms/step - loss: 7.2505e-04 - accuracy: 1.0000 - val_loss: 0.0051 - val_accuracy: 1.0000\n",
            "Epoch 70/100\n",
            "19/19 [==============================] - 0s 7ms/step - loss: 7.6121e-04 - accuracy: 1.0000 - val_loss: 0.0065 - val_accuracy: 1.0000\n",
            "Epoch 71/100\n",
            "19/19 [==============================] - 0s 7ms/step - loss: 0.0011 - accuracy: 1.0000 - val_loss: 0.0076 - val_accuracy: 1.0000\n",
            "Epoch 72/100\n",
            "19/19 [==============================] - 0s 7ms/step - loss: 6.0686e-04 - accuracy: 1.0000 - val_loss: 0.0061 - val_accuracy: 1.0000\n",
            "Epoch 73/100\n",
            "19/19 [==============================] - 0s 8ms/step - loss: 5.2140e-04 - accuracy: 1.0000 - val_loss: 0.0050 - val_accuracy: 1.0000\n",
            "Epoch 74/100\n",
            "19/19 [==============================] - 0s 7ms/step - loss: 7.8272e-04 - accuracy: 1.0000 - val_loss: 0.0061 - val_accuracy: 1.0000\n",
            "Epoch 75/100\n",
            "19/19 [==============================] - 0s 7ms/step - loss: 7.6760e-04 - accuracy: 1.0000 - val_loss: 0.0051 - val_accuracy: 1.0000\n",
            "Epoch 76/100\n",
            "19/19 [==============================] - 0s 7ms/step - loss: 9.0430e-04 - accuracy: 1.0000 - val_loss: 0.0075 - val_accuracy: 1.0000\n",
            "Epoch 77/100\n",
            "19/19 [==============================] - 0s 8ms/step - loss: 5.6705e-04 - accuracy: 1.0000 - val_loss: 0.0046 - val_accuracy: 1.0000\n",
            "Epoch 78/100\n",
            "19/19 [==============================] - 0s 7ms/step - loss: 5.6247e-04 - accuracy: 1.0000 - val_loss: 0.0064 - val_accuracy: 1.0000\n",
            "Epoch 79/100\n",
            "19/19 [==============================] - 0s 8ms/step - loss: 7.8657e-04 - accuracy: 1.0000 - val_loss: 0.0044 - val_accuracy: 1.0000\n",
            "Epoch 80/100\n",
            "19/19 [==============================] - 0s 7ms/step - loss: 6.2663e-04 - accuracy: 1.0000 - val_loss: 0.0047 - val_accuracy: 1.0000\n",
            "Epoch 81/100\n",
            "19/19 [==============================] - 0s 7ms/step - loss: 5.8283e-04 - accuracy: 1.0000 - val_loss: 0.0049 - val_accuracy: 1.0000\n",
            "Epoch 82/100\n",
            "19/19 [==============================] - 0s 7ms/step - loss: 5.7064e-04 - accuracy: 1.0000 - val_loss: 0.0060 - val_accuracy: 1.0000\n",
            "Epoch 83/100\n",
            "19/19 [==============================] - 0s 7ms/step - loss: 0.0014 - accuracy: 1.0000 - val_loss: 0.0058 - val_accuracy: 1.0000\n",
            "Epoch 84/100\n",
            "19/19 [==============================] - 0s 7ms/step - loss: 9.1624e-04 - accuracy: 1.0000 - val_loss: 0.0078 - val_accuracy: 1.0000\n",
            "Epoch 85/100\n",
            "19/19 [==============================] - 0s 7ms/step - loss: 6.9382e-04 - accuracy: 1.0000 - val_loss: 0.0048 - val_accuracy: 1.0000\n",
            "Epoch 86/100\n",
            "19/19 [==============================] - 0s 7ms/step - loss: 0.0012 - accuracy: 1.0000 - val_loss: 0.0099 - val_accuracy: 1.0000\n",
            "Epoch 87/100\n",
            "19/19 [==============================] - 0s 7ms/step - loss: 6.4129e-04 - accuracy: 1.0000 - val_loss: 0.0050 - val_accuracy: 1.0000\n",
            "Epoch 88/100\n",
            "19/19 [==============================] - 0s 7ms/step - loss: 9.2695e-04 - accuracy: 1.0000 - val_loss: 0.0065 - val_accuracy: 1.0000\n",
            "Epoch 89/100\n",
            "10/19 [==============>...............] - ETA: 0s - loss: 6.9255e-04 - accuracy: 1.0000Restoring model weights from the end of the best epoch: 79.\n",
            "19/19 [==============================] - 0s 8ms/step - loss: 6.5469e-04 - accuracy: 1.0000 - val_loss: 0.0046 - val_accuracy: 1.0000\n",
            "Epoch 89: early stopping\n"
          ]
        }
      ]
    },
    {
      "cell_type": "markdown",
      "source": [
        "#### **C. Model Training Computer Vision with ResNet50**"
      ],
      "metadata": {
        "id": "ML6v2wnUqVm0"
      }
    },
    {
      "cell_type": "code",
      "source": [
        "hist_resnet50 = resnet50_model.fit(x_train_resnet50,y_train,epochs=100,batch_size=32,validation_data=(x_val_resnet50,y_val),verbose=1,callbacks=es_resnet50)"
      ],
      "metadata": {
        "colab": {
          "base_uri": "https://localhost:8080/"
        },
        "id": "7v9hYAQ9q2LF",
        "outputId": "a86d5fb3-1dfe-498d-988e-7b849e1f7cbe"
      },
      "execution_count": 65,
      "outputs": [
        {
          "output_type": "stream",
          "name": "stdout",
          "text": [
            "Epoch 1/100\n",
            "19/19 [==============================] - 1s 37ms/step - loss: 11.7757 - accuracy: 0.5102 - val_loss: 4.4296 - val_accuracy: 0.5946\n",
            "Epoch 2/100\n",
            "19/19 [==============================] - 0s 20ms/step - loss: 2.4077 - accuracy: 0.5969 - val_loss: 0.6068 - val_accuracy: 0.6351\n",
            "Epoch 3/100\n",
            "19/19 [==============================] - 0s 19ms/step - loss: 0.6225 - accuracy: 0.6276 - val_loss: 0.5509 - val_accuracy: 0.7500\n",
            "Epoch 4/100\n",
            "19/19 [==============================] - 0s 16ms/step - loss: 0.5404 - accuracy: 0.6548 - val_loss: 0.5672 - val_accuracy: 0.6419\n",
            "Epoch 5/100\n",
            "19/19 [==============================] - 0s 16ms/step - loss: 0.5385 - accuracy: 0.6599 - val_loss: 0.5576 - val_accuracy: 0.6014\n",
            "Epoch 6/100\n",
            "19/19 [==============================] - 0s 20ms/step - loss: 0.5172 - accuracy: 0.6497 - val_loss: 0.4918 - val_accuracy: 0.7703\n",
            "Epoch 7/100\n",
            "19/19 [==============================] - 0s 16ms/step - loss: 0.5100 - accuracy: 0.6939 - val_loss: 0.5262 - val_accuracy: 0.6554\n",
            "Epoch 8/100\n",
            "19/19 [==============================] - 0s 16ms/step - loss: 0.5062 - accuracy: 0.6956 - val_loss: 0.4932 - val_accuracy: 0.8176\n",
            "Epoch 9/100\n",
            "19/19 [==============================] - 0s 17ms/step - loss: 0.5003 - accuracy: 0.6837 - val_loss: 0.5028 - val_accuracy: 0.7432\n",
            "Epoch 10/100\n",
            "19/19 [==============================] - 0s 16ms/step - loss: 0.5038 - accuracy: 0.6956 - val_loss: 0.5039 - val_accuracy: 0.7027\n",
            "Epoch 11/100\n",
            "19/19 [==============================] - 0s 16ms/step - loss: 0.5241 - accuracy: 0.6786 - val_loss: 0.5068 - val_accuracy: 0.7500\n",
            "Epoch 12/100\n",
            "19/19 [==============================] - 0s 16ms/step - loss: 0.5185 - accuracy: 0.6718 - val_loss: 0.5217 - val_accuracy: 0.7027\n",
            "Epoch 13/100\n",
            "19/19 [==============================] - 0s 16ms/step - loss: 0.5101 - accuracy: 0.7041 - val_loss: 0.4994 - val_accuracy: 0.8041\n",
            "Epoch 14/100\n",
            "19/19 [==============================] - 0s 16ms/step - loss: 0.5178 - accuracy: 0.6531 - val_loss: 0.5325 - val_accuracy: 0.6081\n",
            "Epoch 15/100\n",
            "19/19 [==============================] - 0s 17ms/step - loss: 0.5125 - accuracy: 0.6429 - val_loss: 0.5155 - val_accuracy: 0.6149\n",
            "Epoch 16/100\n",
            "17/19 [=========================>....] - ETA: 0s - loss: 0.5109 - accuracy: 0.6379Restoring model weights from the end of the best epoch: 6.\n",
            "19/19 [==============================] - 0s 18ms/step - loss: 0.5105 - accuracy: 0.6497 - val_loss: 0.5163 - val_accuracy: 0.6622\n",
            "Epoch 16: early stopping\n"
          ]
        }
      ]
    },
    {
      "cell_type": "markdown",
      "source": [
        "#### **D. Model Training Computer Vision with InceptionV3**"
      ],
      "metadata": {
        "id": "Ey_Bi6F2qVm0"
      }
    },
    {
      "cell_type": "code",
      "source": [
        "hist_InceptionV3 = InceptionV3_model.fit(x_train_InceptionV3,y_train,epochs=100,batch_size=32,validation_data=(x_val_InceptionV3,y_val),verbose=1,callbacks=es_inceptionV3)"
      ],
      "metadata": {
        "colab": {
          "base_uri": "https://localhost:8080/"
        },
        "id": "CeE9L3PTrH8K",
        "outputId": "a15da976-56cc-46f5-9844-2c8d042d2d7d"
      },
      "execution_count": 70,
      "outputs": [
        {
          "output_type": "stream",
          "name": "stdout",
          "text": [
            "Epoch 1/100\n",
            "19/19 [==============================] - 1s 23ms/step - loss: 7.6265 - acc: 0.6190 - val_loss: 2.0200 - val_acc: 0.7973\n",
            "Epoch 2/100\n",
            "19/19 [==============================] - 0s 15ms/step - loss: 2.2488 - acc: 0.7789 - val_loss: 0.4495 - val_acc: 0.8851\n",
            "Epoch 3/100\n",
            "19/19 [==============================] - 0s 13ms/step - loss: 0.4640 - acc: 0.9048 - val_loss: 0.2697 - val_acc: 0.9054\n",
            "Epoch 4/100\n",
            "19/19 [==============================] - 0s 13ms/step - loss: 0.2419 - acc: 0.9456 - val_loss: 0.2522 - val_acc: 0.9054\n",
            "Epoch 5/100\n",
            "19/19 [==============================] - 0s 12ms/step - loss: 0.0776 - acc: 0.9728 - val_loss: 0.1377 - val_acc: 0.9595\n",
            "Epoch 6/100\n",
            "19/19 [==============================] - 0s 12ms/step - loss: 0.0680 - acc: 0.9779 - val_loss: 0.0810 - val_acc: 0.9662\n",
            "Epoch 7/100\n",
            "19/19 [==============================] - 0s 11ms/step - loss: 0.0376 - acc: 0.9881 - val_loss: 0.1125 - val_acc: 0.9595\n",
            "Epoch 8/100\n",
            "19/19 [==============================] - 0s 11ms/step - loss: 0.0234 - acc: 0.9949 - val_loss: 0.0933 - val_acc: 0.9730\n",
            "Epoch 9/100\n",
            "19/19 [==============================] - 0s 12ms/step - loss: 0.0196 - acc: 0.9932 - val_loss: 0.0766 - val_acc: 0.9730\n",
            "Epoch 10/100\n",
            "19/19 [==============================] - 0s 11ms/step - loss: 0.0164 - acc: 0.9966 - val_loss: 0.0811 - val_acc: 0.9595\n",
            "Epoch 11/100\n",
            "19/19 [==============================] - 0s 11ms/step - loss: 0.0112 - acc: 1.0000 - val_loss: 0.0779 - val_acc: 0.9459\n",
            "Epoch 12/100\n",
            "19/19 [==============================] - 0s 11ms/step - loss: 0.0071 - acc: 1.0000 - val_loss: 0.0791 - val_acc: 0.9459\n",
            "Epoch 13/100\n",
            "19/19 [==============================] - 0s 12ms/step - loss: 0.0139 - acc: 0.9949 - val_loss: 0.0600 - val_acc: 0.9527\n",
            "Epoch 14/100\n",
            "19/19 [==============================] - 0s 11ms/step - loss: 0.0099 - acc: 0.9966 - val_loss: 0.0877 - val_acc: 0.9595\n",
            "Epoch 15/100\n",
            "19/19 [==============================] - 0s 10ms/step - loss: 0.0179 - acc: 0.9949 - val_loss: 0.1213 - val_acc: 0.9392\n",
            "Epoch 16/100\n",
            "19/19 [==============================] - 0s 11ms/step - loss: 0.0063 - acc: 1.0000 - val_loss: 0.1318 - val_acc: 0.9527\n",
            "Epoch 17/100\n",
            "19/19 [==============================] - 0s 11ms/step - loss: 0.0200 - acc: 0.9932 - val_loss: 0.1126 - val_acc: 0.9527\n",
            "Epoch 18/100\n",
            "19/19 [==============================] - 0s 11ms/step - loss: 0.0127 - acc: 0.9949 - val_loss: 0.0919 - val_acc: 0.9392\n",
            "Epoch 19/100\n",
            "19/19 [==============================] - 0s 10ms/step - loss: 0.0176 - acc: 0.9932 - val_loss: 0.1061 - val_acc: 0.9595\n",
            "Epoch 20/100\n",
            "19/19 [==============================] - 0s 11ms/step - loss: 0.0129 - acc: 0.9966 - val_loss: 0.0912 - val_acc: 0.9595\n",
            "Epoch 21/100\n",
            "19/19 [==============================] - 0s 11ms/step - loss: 0.0047 - acc: 0.9983 - val_loss: 0.0950 - val_acc: 0.9595\n",
            "Epoch 22/100\n",
            "19/19 [==============================] - 0s 11ms/step - loss: 0.0124 - acc: 0.9949 - val_loss: 0.0798 - val_acc: 0.9595\n",
            "Epoch 23/100\n",
            "14/19 [=====================>........] - ETA: 0s - loss: 0.0060 - acc: 0.9978Restoring model weights from the end of the best epoch: 13.\n",
            "19/19 [==============================] - 0s 12ms/step - loss: 0.0048 - acc: 0.9983 - val_loss: 0.0858 - val_acc: 0.9595\n",
            "Epoch 23: early stopping\n"
          ]
        }
      ]
    },
    {
      "cell_type": "markdown",
      "source": [
        "#### **E. Model Training Computer Vision with Xception**"
      ],
      "metadata": {
        "id": "QbQOHPcYqVm1"
      }
    },
    {
      "cell_type": "code",
      "source": [
        "hist_xception = xception_model.fit(x_train_xception,y_train,epochs=100,batch_size=32,validation_data=(x_val_xception,y_val),verbose=1,callbacks=es_xception)"
      ],
      "metadata": {
        "colab": {
          "base_uri": "https://localhost:8080/"
        },
        "id": "UagsCgTLrZhK",
        "outputId": "9237c45f-cc81-411c-f3ca-cbc27a81f71f"
      },
      "execution_count": 76,
      "outputs": [
        {
          "output_type": "stream",
          "name": "stdout",
          "text": [
            "Epoch 1/100\n",
            "19/19 [==============================] - 1s 34ms/step - loss: 4.4986 - acc: 0.6565 - val_loss: 2.5141 - val_acc: 0.7568\n",
            "Epoch 2/100\n",
            "19/19 [==============================] - 0s 20ms/step - loss: 1.4202 - acc: 0.8044 - val_loss: 1.6916 - val_acc: 0.7905\n",
            "Epoch 3/100\n",
            "19/19 [==============================] - 0s 19ms/step - loss: 0.5715 - acc: 0.8707 - val_loss: 0.1849 - val_acc: 0.9392\n",
            "Epoch 4/100\n",
            "19/19 [==============================] - 0s 20ms/step - loss: 0.1664 - acc: 0.9490 - val_loss: 0.1318 - val_acc: 0.9595\n",
            "Epoch 5/100\n",
            "19/19 [==============================] - 0s 19ms/step - loss: 0.1230 - acc: 0.9558 - val_loss: 0.0763 - val_acc: 0.9662\n",
            "Epoch 6/100\n",
            "19/19 [==============================] - 0s 17ms/step - loss: 0.0810 - acc: 0.9745 - val_loss: 0.0818 - val_acc: 0.9662\n",
            "Epoch 7/100\n",
            "19/19 [==============================] - 0s 16ms/step - loss: 0.0615 - acc: 0.9745 - val_loss: 0.0789 - val_acc: 0.9595\n",
            "Epoch 8/100\n",
            "19/19 [==============================] - 0s 16ms/step - loss: 0.0473 - acc: 0.9881 - val_loss: 0.0886 - val_acc: 0.9459\n",
            "Epoch 9/100\n",
            "19/19 [==============================] - 0s 20ms/step - loss: 0.0346 - acc: 0.9881 - val_loss: 0.0447 - val_acc: 0.9865\n",
            "Epoch 10/100\n",
            "19/19 [==============================] - 0s 20ms/step - loss: 0.0298 - acc: 0.9898 - val_loss: 0.0335 - val_acc: 0.9865\n",
            "Epoch 11/100\n",
            "19/19 [==============================] - 0s 16ms/step - loss: 0.0182 - acc: 0.9966 - val_loss: 0.0858 - val_acc: 0.9730\n",
            "Epoch 12/100\n",
            "19/19 [==============================] - 0s 16ms/step - loss: 0.0240 - acc: 0.9966 - val_loss: 0.0693 - val_acc: 0.9730\n",
            "Epoch 13/100\n",
            "19/19 [==============================] - 0s 16ms/step - loss: 0.0274 - acc: 0.9915 - val_loss: 0.1411 - val_acc: 0.9392\n",
            "Epoch 14/100\n",
            "19/19 [==============================] - 0s 16ms/step - loss: 0.0181 - acc: 0.9949 - val_loss: 0.0498 - val_acc: 0.9730\n",
            "Epoch 15/100\n",
            "19/19 [==============================] - 0s 16ms/step - loss: 0.0245 - acc: 0.9898 - val_loss: 0.1226 - val_acc: 0.9595\n",
            "Epoch 16/100\n",
            "19/19 [==============================] - 0s 16ms/step - loss: 0.0450 - acc: 0.9864 - val_loss: 0.0687 - val_acc: 0.9595\n",
            "Epoch 17/100\n",
            "19/19 [==============================] - 0s 16ms/step - loss: 0.0392 - acc: 0.9932 - val_loss: 0.1345 - val_acc: 0.9595\n",
            "Epoch 18/100\n",
            "19/19 [==============================] - 0s 16ms/step - loss: 0.0587 - acc: 0.9796 - val_loss: 0.0761 - val_acc: 0.9730\n",
            "Epoch 19/100\n",
            "19/19 [==============================] - 0s 16ms/step - loss: 0.0489 - acc: 0.9830 - val_loss: 0.1700 - val_acc: 0.9459\n",
            "Epoch 20/100\n",
            "18/19 [===========================>..] - ETA: 0s - loss: 0.0366 - acc: 0.9896Restoring model weights from the end of the best epoch: 10.\n",
            "19/19 [==============================] - 0s 18ms/step - loss: 0.0360 - acc: 0.9898 - val_loss: 0.2523 - val_acc: 0.9257\n",
            "Epoch 20: early stopping\n"
          ]
        }
      ]
    },
    {
      "cell_type": "markdown",
      "source": [
        "# VIII. Model Evaluation"
      ],
      "metadata": {
        "id": "VuP356OZBQI_"
      }
    },
    {
      "cell_type": "markdown",
      "source": [
        "#### **A. Model CNN I**"
      ],
      "metadata": {
        "id": "nUoGZvpHreEZ"
      }
    },
    {
      "cell_type": "code",
      "source": [
        "# Plotting history of the model\n",
        "pd.DataFrame(hist_cnn.history).plot(figsize=(8, 5))\n",
        "plt.grid(True)\n",
        "plt.gca().set_ylim(0, 1)\n",
        "plt.xlabel('Epochs')\n",
        "plt.ylabel('Metrics')\n",
        "plt.show()"
      ],
      "metadata": {
        "colab": {
          "base_uri": "https://localhost:8080/",
          "height": 338
        },
        "id": "jXJqg5z9rvu0",
        "outputId": "08f362b3-49e5-4ff8-a47a-30cfdc2434fc"
      },
      "execution_count": 78,
      "outputs": [
        {
          "output_type": "display_data",
          "data": {
            "text/plain": [
              "<Figure size 576x360 with 1 Axes>"
            ],
            "image/png": "[encoded data removed]"
          },
          "metadata": {
            "needs_background": "light"
          }
        }
      ]
    },
    {
      "cell_type": "code",
      "source": [
        "# Evaluate result\n",
        "eval_test_cnn = cnn_model.evaluate(x_test,y_test)\n",
        "eval_train_cnn = cnn_model.evaluate(x_train,y_train)\n",
        "print(f'Nilai Accuracy Model CNN Testing II = {round((eval_test_cnn[1]),3)} ')\n",
        "print(f'Nilai Accuracy Model CNN Training II = {round((eval_train_cnn[1]),3)} ')"
      ],
      "metadata": {
        "colab": {
          "base_uri": "https://localhost:8080/"
        },
        "id": "Y-8m2wKNNNbj",
        "outputId": "fabe2404-7098-4cd5-e541-cc04e57397b9"
      },
      "execution_count": 80,
      "outputs": [
        {
          "output_type": "stream",
          "name": "stdout",
          "text": [
            "6/6 [==============================] - 0s 45ms/step - loss: 0.1685 - accuracy: 0.9565\n",
            "19/19 [==============================] - 0s 15ms/step - loss: 0.0035 - accuracy: 0.9983\n",
            "Nilai Accuracy Model CNN Testing II = 0.957 \n",
            "Nilai Accuracy Model CNN Training II = 0.998 \n"
          ]
        }
      ]
    },
    {
      "cell_type": "code",
      "source": [
        "# Predicting y result\n",
        "y_cnn_pred_test=cnn_model.predict(x_test)"
      ],
      "metadata": {
        "id": "9ZHUSOy_sF7R"
      },
      "execution_count": 88,
      "outputs": []
    },
    {
      "cell_type": "code",
      "source": [
        "# Graphing confusion matrix\n",
        "y_cnn_pred_test_list = []\n",
        "\n",
        "for ele in y_cnn_pred_test:\n",
        "  if ele > 0.5:\n",
        "    y_cnn_pred_test_list.append(1)\n",
        "  else :\n",
        "    y_cnn_pred_test_list.append(0)\n",
        "cm_cnn = tf.math.confusion_matrix(labels=y_test, predictions=y_cnn_pred_test_list)\n",
        "\n",
        "plt.figure(figsize=(9,7))\n",
        "sns.heatmap(cm_cnn,annot=True,fmt='d')\n",
        "plt.xlabel('Predicted')\n",
        "plt.ylabel('Actual')"
      ],
      "metadata": {
        "colab": {
          "base_uri": "https://localhost:8080/",
          "height": 459
        },
        "id": "7B098CuVsPLr",
        "outputId": "c62d48e1-99b6-4703-fc29-cd846b9c4b50"
      },
      "execution_count": 89,
      "outputs": [
        {
          "output_type": "execute_result",
          "data": {
            "text/plain": [
              "Text(60.0, 0.5, 'Actual')"
            ]
          },
          "metadata": {},
          "execution_count": 89
        },
        {
          "output_type": "display_data",
          "data": {
            "text/plain": [
              "<Figure size 648x504 with 2 Axes>"
            ],
            "image/png": "[encoded data removed]"
          },
          "metadata": {
            "needs_background": "light"
          }
        }
      ]
    },
    {
      "cell_type": "markdown",
      "source": [
        "In this first CNN model, we can see that the model accuracy is quite good in comparison to the validation accuracy. Despite that, the validation loss fluctuate a lot. Although the model is learning quite efficiently, the validation loss fluctuation is a consideration that the model need improvement.\n",
        "\n",
        "Additionally, based on the confusion matrix the distribution between the prediction is quite good with only 8 forged signature predicted as real."
      ],
      "metadata": {
        "id": "xRq9vjNMtEE1"
      }
    },
    {
      "cell_type": "markdown",
      "source": [
        "#### **B. Model Training Computer Vision with VGG16**"
      ],
      "metadata": {
        "id": "wqZUKla3qbYB"
      }
    },
    {
      "cell_type": "code",
      "source": [
        "# Plotting history of the model\n",
        "pd.DataFrame(hist_vgg.history).plot(figsize=(8, 5))\n",
        "plt.grid(True)\n",
        "plt.gca().set_ylim(0, 1)\n",
        "plt.xlabel('Epochs')\n",
        "plt.ylabel('Metrics')\n",
        "plt.show()"
      ],
      "metadata": {
        "colab": {
          "base_uri": "https://localhost:8080/",
          "height": 338
        },
        "id": "hUEG3NNTtrfO",
        "outputId": "e4d4b832-1f78-4768-db45-9e874390ad06"
      },
      "execution_count": 90,
      "outputs": [
        {
          "output_type": "display_data",
          "data": {
            "text/plain": [
              "<Figure size 576x360 with 1 Axes>"
            ],
            "image/png": "[encoded data removed]"
          },
          "metadata": {
            "needs_background": "light"
          }
        }
      ]
    },
    {
      "cell_type": "code",
      "source": [
        "# Define x\n",
        "x_test_vgg = model_vgg.predict(x_test,verbose=1)"
      ],
      "metadata": {
        "colab": {
          "base_uri": "https://localhost:8080/"
        },
        "id": "rjorHNFzvJDG",
        "outputId": "4286603e-4f8a-428c-9022-425c642d12a6"
      },
      "execution_count": 96,
      "outputs": [
        {
          "output_type": "stream",
          "name": "stdout",
          "text": [
            "6/6 [==============================] - 3s 677ms/step\n"
          ]
        }
      ]
    },
    {
      "cell_type": "code",
      "source": [
        "# Model evaluation\n",
        "eval_test_vgg=vgg_model.evaluate(x_test_vgg,y_test)\n",
        "eval_train_vgg=vgg_model.evaluate(x_train_vgg,y_train)\n",
        "print(f'Nilai Accuracy VGG16 Testing (setelah Improvement) = {round((eval_test_vgg[1]),3)} ')\n",
        "print(f'Nilai Accuracy VGG16 Training (setelah Improvement) = {round((eval_train_vgg[1]),3)} ')"
      ],
      "metadata": {
        "colab": {
          "base_uri": "https://localhost:8080/"
        },
        "id": "mk1z1tKLvV50",
        "outputId": "91d36b58-be1f-47e9-ce06-b18fd09a8eab"
      },
      "execution_count": 99,
      "outputs": [
        {
          "output_type": "stream",
          "name": "stdout",
          "text": [
            "6/6 [==============================] - 0s 4ms/step - loss: 0.0286 - accuracy: 0.9891\n",
            "19/19 [==============================] - 0s 3ms/step - loss: 8.3946e-05 - accuracy: 1.0000\n",
            "Nilai Accuracy VGG16 Testing (setelah Improvement) = 0.989 \n",
            "Nilai Accuracy VGG16 Training (setelah Improvement) = 1.0 \n"
          ]
        }
      ]
    },
    {
      "cell_type": "code",
      "source": [
        "# Prediction with VGG16\n",
        "y_vgg_pred_test=vgg_model.predict(x_test_vgg)"
      ],
      "metadata": {
        "id": "f4YUiVrnvDhF"
      },
      "execution_count": 98,
      "outputs": []
    },
    {
      "cell_type": "code",
      "source": [
        "# Confusion Matrix\n",
        "y_vgg_test = []\n",
        "\n",
        "for ele in y_vgg_pred_test:\n",
        "  if ele > 0.5:\n",
        "    y_vgg_test.append(1)\n",
        "  else :\n",
        "    y_vgg_test.append(0)\n",
        "cm_vgg = tf.math.confusion_matrix(labels=y_test, predictions=y_vgg_test)\n",
        "\n",
        "plt.figure(figsize=(9,7))\n",
        "sns.heatmap(cm_vgg,annot=True,fmt='d')\n",
        "plt.xlabel('Predicted')\n",
        "plt.ylabel('Actual')"
      ],
      "metadata": {
        "colab": {
          "base_uri": "https://localhost:8080/",
          "height": 460
        },
        "id": "1DrU5ToJvDmP",
        "outputId": "abb48545-71b0-4d9f-81d1-5b277902f0ee"
      },
      "execution_count": 100,
      "outputs": [
        {
          "output_type": "execute_result",
          "data": {
            "text/plain": [
              "Text(60.0, 0.5, 'Actual')"
            ]
          },
          "metadata": {},
          "execution_count": 100
        },
        {
          "output_type": "display_data",
          "data": {
            "text/plain": [
              "<Figure size 648x504 with 2 Axes>"
            ],
            "image/png": "[encoded data removed]"
          },
          "metadata": {
            "needs_background": "light"
          }
        }
      ]
    },
    {
      "cell_type": "markdown",
      "source": [
        "In this VGG16 model, we can see that the model accuracy and loss is quite good in comparison to the validation accuracy and loss.This model seems to be a good fit and is learning quite efficiently.\n",
        "\n",
        "Additionally, based on the confusion matrix the distribution between the prediction is quite good with only 2 forged signature predicted as real."
      ],
      "metadata": {
        "id": "s4sWLoUEvcol"
      }
    },
    {
      "cell_type": "markdown",
      "source": [
        "#### **C. Model Training Computer Vision with ResNet50**"
      ],
      "metadata": {
        "id": "RJ_GnTSyqbYB"
      }
    },
    {
      "cell_type": "code",
      "source": [
        "# Plotting history of the model\n",
        "pd.DataFrame(hist_resnet50.history).plot(figsize=(8, 5))\n",
        "plt.grid(True)\n",
        "plt.gca().set_ylim(0, 1)\n",
        "plt.xlabel('Epochs')\n",
        "plt.ylabel('Metrics')\n",
        "plt.show()"
      ],
      "metadata": {
        "colab": {
          "base_uri": "https://localhost:8080/",
          "height": 338
        },
        "id": "iAQ9DjyAt0CL",
        "outputId": "7702dfb7-3ca4-4926-d5dc-7b779831e507"
      },
      "execution_count": 91,
      "outputs": [
        {
          "output_type": "display_data",
          "data": {
            "text/plain": [
              "<Figure size 576x360 with 1 Axes>"
            ],
            "image/png": "[encoded data removed]"
          },
          "metadata": {
            "needs_background": "light"
          }
        }
      ]
    },
    {
      "cell_type": "code",
      "source": [
        "# Define x\n",
        "x_test_resnet50 = model_resnet50.predict(x_test,verbose=1)"
      ],
      "metadata": {
        "colab": {
          "base_uri": "https://localhost:8080/"
        },
        "id": "oi1JE62Kv7Hr",
        "outputId": "4e775de2-a6a1-47e4-b34a-34ab8355a5d2"
      },
      "execution_count": 101,
      "outputs": [
        {
          "output_type": "stream",
          "name": "stdout",
          "text": [
            "6/6 [==============================] - 1s 281ms/step\n"
          ]
        }
      ]
    },
    {
      "cell_type": "code",
      "source": [
        "# Model evaluation\n",
        "eval_test_resnet50=resnet50_model.evaluate(x_test_resnet50,y_test)\n",
        "eval_train_resnet50=resnet50_model.evaluate(x_train_resnet50,y_train)\n",
        "print(f'Nilai Accuracy ResNet50 Testing (setelah Improvement) = {round((eval_test_resnet50[1]),3)} ')\n",
        "print(f'Nilai Accuracy ResNet50 Training (setelah Improvement) = {round((eval_train_resnet50[1]),3)} ')"
      ],
      "metadata": {
        "colab": {
          "base_uri": "https://localhost:8080/"
        },
        "id": "quaPhXoywFho",
        "outputId": "7f52a520-e2da-474f-ea47-3f11261617d7"
      },
      "execution_count": 102,
      "outputs": [
        {
          "output_type": "stream",
          "name": "stdout",
          "text": [
            "6/6 [==============================] - 0s 7ms/step - loss: 0.4634 - accuracy: 0.7554\n",
            "19/19 [==============================] - 0s 7ms/step - loss: 0.4544 - accuracy: 0.7806\n",
            "Nilai Accuracy ResNet50 Testing (setelah Improvement) = 0.755 \n",
            "Nilai Accuracy ResNet50 Training (setelah Improvement) = 0.781 \n"
          ]
        }
      ]
    },
    {
      "cell_type": "code",
      "source": [
        "# Prediction with ResNet50\n",
        "y_resnet50_pred_test=resnet50_model.predict(x_test_resnet50)"
      ],
      "metadata": {
        "id": "nyxmt6PEwRg4"
      },
      "execution_count": 103,
      "outputs": []
    },
    {
      "cell_type": "code",
      "source": [
        "# Confusion Matrix \n",
        "y_resnet50_test = []\n",
        "\n",
        "for ele in y_resnet50_pred_test:\n",
        "  if ele > 0.5:\n",
        "    y_resnet50_test.append(1)\n",
        "  else :\n",
        "    y_resnet50_test.append(0)\n",
        "cm_resnet50 = tf.math.confusion_matrix(labels=y_test, predictions=y_resnet50_test)\n",
        "\n",
        "plt.figure(figsize=(9,7))\n",
        "sns.heatmap(cm_resnet50,annot=True,fmt='d')\n",
        "plt.xlabel('Predicted')\n",
        "plt.ylabel('Actual')"
      ],
      "metadata": {
        "colab": {
          "base_uri": "https://localhost:8080/",
          "height": 459
        },
        "id": "4CmoChEOwSyv",
        "outputId": "80bac33b-6b3c-4edf-9e00-1121a5462303"
      },
      "execution_count": 104,
      "outputs": [
        {
          "output_type": "execute_result",
          "data": {
            "text/plain": [
              "Text(60.0, 0.5, 'Actual')"
            ]
          },
          "metadata": {},
          "execution_count": 104
        },
        {
          "output_type": "display_data",
          "data": {
            "text/plain": [
              "<Figure size 648x504 with 2 Axes>"
            ],
            "image/png": "[encoded data removed]"
          },
          "metadata": {
            "needs_background": "light"
          }
        }
      ]
    },
    {
      "cell_type": "markdown",
      "source": [
        "In this ResNet50 model, we can see that the model loss is quite good in comparison to the validation loss. Despite that, the model accuracy and the validation accuracy seems to fluctuate a lot. This model seems to be an under fit and is learning not quite good.\n",
        "\n",
        "Additionally, based on the confusion matrix the distribution between the prediction is pretty bad with 12 forged signature predicted as real and 33 real signature predicted as forged."
      ],
      "metadata": {
        "id": "JRJPmiIwwbgg"
      }
    },
    {
      "cell_type": "markdown",
      "source": [
        "#### **D. Model Training Computer Vision with InceptionV3**"
      ],
      "metadata": {
        "id": "CVkQKd7LqbYB"
      }
    },
    {
      "cell_type": "code",
      "source": [
        "# Plotting history of the model\n",
        "pd.DataFrame(hist_InceptionV3.history).plot(figsize=(8, 5))\n",
        "plt.grid(True)\n",
        "plt.gca().set_ylim(0, 1)\n",
        "plt.xlabel('Epochs')\n",
        "plt.ylabel('Metrics')\n",
        "plt.show()"
      ],
      "metadata": {
        "colab": {
          "base_uri": "https://localhost:8080/",
          "height": 338
        },
        "id": "CfDvXtsdt2_t",
        "outputId": "22bb47cc-c0e7-43de-9311-9e70622ad3dc"
      },
      "execution_count": 92,
      "outputs": [
        {
          "output_type": "display_data",
          "data": {
            "text/plain": [
              "<Figure size 576x360 with 1 Axes>"
            ],
            "image/png": "[encoded data removed]"
          },
          "metadata": {
            "needs_background": "light"
          }
        }
      ]
    },
    {
      "cell_type": "code",
      "source": [
        "# Define x\n",
        "x_test_InceptionV3 = model_InceptionV3.predict(x_test,verbose=1)"
      ],
      "metadata": {
        "colab": {
          "base_uri": "https://localhost:8080/"
        },
        "id": "LptVVKq5w6OI",
        "outputId": "9407fa3a-d4e7-4a96-f80e-0fd966871158"
      },
      "execution_count": 105,
      "outputs": [
        {
          "output_type": "stream",
          "name": "stdout",
          "text": [
            "6/6 [==============================] - 2s 322ms/step\n"
          ]
        }
      ]
    },
    {
      "cell_type": "code",
      "source": [
        "# Model evaluation\n",
        "eval_test_InceptionV3=InceptionV3_model.evaluate(x_test_InceptionV3,y_test)\n",
        "eval_train_InceptionV3=InceptionV3_model.evaluate(x_train_InceptionV3,y_train)\n",
        "print(f'Nilai Accuracy Inception V3 Testing (setelah Improvement) = {round((eval_test_InceptionV3[1]),3)} ')\n",
        "print(f'Nilai Accuracy Inception V3 Training (setelah Improvement) = {round((eval_train_InceptionV3[1]),3)} ')"
      ],
      "metadata": {
        "colab": {
          "base_uri": "https://localhost:8080/"
        },
        "id": "BatNesKGw6Ss",
        "outputId": "1209d647-bc41-45d1-b283-0f0f6117756b"
      },
      "execution_count": 107,
      "outputs": [
        {
          "output_type": "stream",
          "name": "stdout",
          "text": [
            "6/6 [==============================] - 0s 5ms/step - loss: 0.1293 - acc: 0.9457\n",
            "19/19 [==============================] - 0s 5ms/step - loss: 2.3951e-04 - acc: 1.0000\n",
            "Nilai Accuracy Inception V3 Testing (setelah Improvement) = 0.946 \n",
            "Nilai Accuracy Inception V3 Training (setelah Improvement) = 1.0 \n"
          ]
        }
      ]
    },
    {
      "cell_type": "code",
      "source": [
        "# Prediction with Inception V3\n",
        "y_InceptionV3_pred_test=InceptionV3_model.predict(x_test_InceptionV3)"
      ],
      "metadata": {
        "id": "E8bRhwrzw6VQ"
      },
      "execution_count": 108,
      "outputs": []
    },
    {
      "cell_type": "code",
      "source": [
        "# Confusion Matrix \n",
        "y_InceptionV3_test = []\n",
        "\n",
        "for ele in y_InceptionV3_pred_test:\n",
        "  if ele > 0.5:\n",
        "    y_InceptionV3_test.append(1)\n",
        "  else :\n",
        "    y_InceptionV3_test.append(0)\n",
        "cm_InceptionV3 = tf.math.confusion_matrix(labels=y_test, predictions=y_InceptionV3_test)\n",
        "\n",
        "plt.figure(figsize=(9,7))\n",
        "sns.heatmap(cm_InceptionV3,annot=True,fmt='d')\n",
        "plt.xlabel('Predicted')\n",
        "plt.ylabel('Actual')"
      ],
      "metadata": {
        "colab": {
          "base_uri": "https://localhost:8080/",
          "height": 459
        },
        "id": "N0KSsTJlw6Xx",
        "outputId": "1291951b-8021-4705-af55-268cbe3b27ca"
      },
      "execution_count": 109,
      "outputs": [
        {
          "output_type": "execute_result",
          "data": {
            "text/plain": [
              "Text(60.0, 0.5, 'Actual')"
            ]
          },
          "metadata": {},
          "execution_count": 109
        },
        {
          "output_type": "display_data",
          "data": {
            "text/plain": [
              "<Figure size 648x504 with 2 Axes>"
            ],
            "image/png": "[encoded data removed]"
          },
          "metadata": {
            "needs_background": "light"
          }
        }
      ]
    },
    {
      "cell_type": "markdown",
      "source": [
        "In this InceptionV3 model, we can see that the model accuracy and loss is quite good in comparison to the validation accuracy and loss, although the loss distance is still quite far. This model seems to be learning decently.\n",
        "\n",
        "Additionally, based on the confusion matrix the distribution between the prediction is pretty bad with 8 forged signature predicted as real and 2 real signature predicted as forged."
      ],
      "metadata": {
        "id": "-dM9E4gExM40"
      }
    },
    {
      "cell_type": "markdown",
      "source": [
        "#### **E. Model Training Computer Vision with Xception**"
      ],
      "metadata": {
        "id": "N58Du0SmqbYB"
      }
    },
    {
      "cell_type": "code",
      "source": [
        "# Plotting history of the model\n",
        "pd.DataFrame(hist_xception.history).plot(figsize=(8, 5))\n",
        "plt.grid(True)\n",
        "plt.gca().set_ylim(0, 1)\n",
        "plt.xlabel('Epochs')\n",
        "plt.ylabel('Metrics')\n",
        "plt.show()"
      ],
      "metadata": {
        "colab": {
          "base_uri": "https://localhost:8080/",
          "height": 338
        },
        "id": "CqpvCGAjt5s-",
        "outputId": "8f2e18a6-8014-43c0-b9e6-07d13d07f03d"
      },
      "execution_count": 93,
      "outputs": [
        {
          "output_type": "display_data",
          "data": {
            "text/plain": [
              "<Figure size 576x360 with 1 Axes>"
            ],
            "image/png": "[encoded data removed]"
          },
          "metadata": {
            "needs_background": "light"
          }
        }
      ]
    },
    {
      "cell_type": "code",
      "source": [
        "# Define x\n",
        "x_test_xception = model_xception.predict(x_test,verbose=1)"
      ],
      "metadata": {
        "colab": {
          "base_uri": "https://localhost:8080/"
        },
        "id": "0Lsy4lwGy-zv",
        "outputId": "0a4b4e84-182d-4de2-f279-a7ace037fe08"
      },
      "execution_count": 110,
      "outputs": [
        {
          "output_type": "stream",
          "name": "stdout",
          "text": [
            "6/6 [==============================] - 2s 355ms/step\n"
          ]
        }
      ]
    },
    {
      "cell_type": "code",
      "source": [
        "# Model evaluation\n",
        "eval_test_xception=xception_model.evaluate(x_test_xception,y_test)\n",
        "eval_train_xception=xception_model.evaluate(x_train_xception,y_train)\n",
        "print(f'Nilai Accuracy Xception Testing (setelah Improvement) = {round((eval_test_xception[1]),3)} ')\n",
        "print(f'Nilai Accuracy Xception Training (setelah Improvement) = {round((eval_train_xception[1]),3)} ')"
      ],
      "metadata": {
        "colab": {
          "base_uri": "https://localhost:8080/"
        },
        "id": "kBkFIjzXy-2g",
        "outputId": "abd176ac-6ee4-4fa0-8ce1-3790a47e417c"
      },
      "execution_count": 111,
      "outputs": [
        {
          "output_type": "stream",
          "name": "stdout",
          "text": [
            "6/6 [==============================] - 0s 7ms/step - loss: 0.0267 - acc: 0.9891\n",
            "19/19 [==============================] - 0s 7ms/step - loss: 0.0029 - acc: 1.0000\n",
            "Nilai Accuracy Xception Testing (setelah Improvement) = 0.989 \n",
            "Nilai Accuracy Xception Training (setelah Improvement) = 1.0 \n"
          ]
        }
      ]
    },
    {
      "cell_type": "code",
      "source": [
        "# Prediction with Xception\n",
        "y_xception_pred_test=xception_model.predict(x_test_xception)"
      ],
      "metadata": {
        "id": "MEgy_54xy-5S"
      },
      "execution_count": 112,
      "outputs": []
    },
    {
      "cell_type": "code",
      "source": [
        "# Confusion Matrix \n",
        "y_xception_test = []\n",
        "\n",
        "for ele in y_xception_pred_test:\n",
        "  if ele > 0.5:\n",
        "    y_xception_test.append(1)\n",
        "  else :\n",
        "    y_xception_test.append(0)\n",
        "cm_xception = tf.math.confusion_matrix(labels=y_test, predictions=y_xception_test)\n",
        "\n",
        "plt.figure(figsize=(9,7))\n",
        "sns.heatmap(cm_xception,annot=True,fmt='d')\n",
        "plt.xlabel('Predicted')\n",
        "plt.ylabel('Actual')"
      ],
      "metadata": {
        "colab": {
          "base_uri": "https://localhost:8080/",
          "height": 459
        },
        "id": "wOXKGrvey-74",
        "outputId": "d1a5a41b-5389-47f9-8637-42dce64f6dc2"
      },
      "execution_count": 113,
      "outputs": [
        {
          "output_type": "execute_result",
          "data": {
            "text/plain": [
              "Text(60.0, 0.5, 'Actual')"
            ]
          },
          "metadata": {},
          "execution_count": 113
        },
        {
          "output_type": "display_data",
          "data": {
            "text/plain": [
              "<Figure size 648x504 with 2 Axes>"
            ],
            "image/png": "[encoded data removed]"
          },
          "metadata": {
            "needs_background": "light"
          }
        }
      ]
    },
    {
      "cell_type": "markdown",
      "source": [
        "In this InceptionV3 model, we can see that the model accuracy and loss is quite good in comparison to the validation accuracy and loss, although the loss distance is still quite far. This model seems to be learning decently.\n",
        "\n",
        "Additionally, based on the confusion matrix the distribution between the prediction is quite good with 1 forged signature predicted as real and 1 real signature predicted as forged."
      ],
      "metadata": {
        "id": "zT3UmvrBzbLy"
      }
    },
    {
      "cell_type": "markdown",
      "source": [
        "#### **Conclusion**"
      ],
      "metadata": {
        "id": "4aIfnV1vzrVI"
      }
    },
    {
      "cell_type": "markdown",
      "source": [
        "In conclusion, we decided to choose VGG16 model as our best model, since it showed a good-fit model and perform the best prediction out of all our model, with only 2 wrong predicition. We will be using this VGG16 model as the basis model of our prediction."
      ],
      "metadata": {
        "id": "Qwy-z2sSzzqb"
      }
    },
    {
      "cell_type": "markdown",
      "source": [
        "# IX. Model Saving"
      ],
      "metadata": {
        "id": "mjn9GcPZBbPf"
      }
    },
    {
      "cell_type": "code",
      "source": [
        "# Checking model\n",
        "vgg_model.summary()"
      ],
      "metadata": {
        "colab": {
          "base_uri": "https://localhost:8080/"
        },
        "id": "1yhIS84K0KLy",
        "outputId": "5231f15d-591a-4e89-8d86-466dc21f346e"
      },
      "execution_count": 114,
      "outputs": [
        {
          "output_type": "stream",
          "name": "stdout",
          "text": [
            "Model: \"sequential_4\"\n",
            "_________________________________________________________________\n",
            " Layer (type)                Output Shape              Param #   \n",
            "=================================================================\n",
            " flatten_4 (Flatten)         (None, 32768)             0         \n",
            "                                                                 \n",
            " dense_8 (Dense)             (None, 256)               8388864   \n",
            "                                                                 \n",
            " dropout_13 (Dropout)        (None, 256)               0         \n",
            "                                                                 \n",
            " dense_9 (Dense)             (None, 1)                 257       \n",
            "                                                                 \n",
            "=================================================================\n",
            "Total params: 8,389,121\n",
            "Trainable params: 8,389,121\n",
            "Non-trainable params: 0\n",
            "_________________________________________________________________\n"
          ]
        }
      ]
    },
    {
      "cell_type": "code",
      "source": [
        "# Freeze Model\n",
        "vgg_model.trainable=False"
      ],
      "metadata": {
        "id": "0NUDGGDf0T8u"
      },
      "execution_count": 115,
      "outputs": []
    },
    {
      "cell_type": "code",
      "source": [
        "vgg_model.summary()"
      ],
      "metadata": {
        "colab": {
          "base_uri": "https://localhost:8080/"
        },
        "id": "LnSzsZxk0UgB",
        "outputId": "d82d3106-974c-4cd3-a391-0fc9b241fc5a"
      },
      "execution_count": 116,
      "outputs": [
        {
          "output_type": "stream",
          "name": "stdout",
          "text": [
            "Model: \"sequential_4\"\n",
            "_________________________________________________________________\n",
            " Layer (type)                Output Shape              Param #   \n",
            "=================================================================\n",
            " flatten_4 (Flatten)         (None, 32768)             0         \n",
            "                                                                 \n",
            " dense_8 (Dense)             (None, 256)               8388864   \n",
            "                                                                 \n",
            " dropout_13 (Dropout)        (None, 256)               0         \n",
            "                                                                 \n",
            " dense_9 (Dense)             (None, 1)                 257       \n",
            "                                                                 \n",
            "=================================================================\n",
            "Total params: 8,389,121\n",
            "Trainable params: 0\n",
            "Non-trainable params: 8,389,121\n",
            "_________________________________________________________________\n"
          ]
        }
      ]
    },
    {
      "cell_type": "code",
      "source": [
        "# Model saving\n",
        "vgg_model.save(\"signature_model\")"
      ],
      "metadata": {
        "id": "qQcqtbAI0YuK"
      },
      "execution_count": 117,
      "outputs": []
    },
    {
      "cell_type": "markdown",
      "source": [
        "# IX. Model Inference"
      ],
      "metadata": {
        "id": "kox3dngfifx2"
      }
    },
    {
      "cell_type": "code",
      "source": [
        "# Display Inference-Array\n",
        "x_inf.shape"
      ],
      "metadata": {
        "colab": {
          "base_uri": "https://localhost:8080/"
        },
        "id": "rXJVgBDQ08mP",
        "outputId": "7124a6c6-7a06-46ba-ec75-71a34f04cd14"
      },
      "execution_count": 119,
      "outputs": [
        {
          "output_type": "execute_result",
          "data": {
            "text/plain": [
              "(10, 256, 256, 3)"
            ]
          },
          "metadata": {},
          "execution_count": 119
        }
      ]
    },
    {
      "cell_type": "code",
      "source": [
        "# Predict with vgg Model\n",
        "x_inf_final = model_vgg.predict(x_inf,verbose=0)"
      ],
      "metadata": {
        "id": "XASqP_vQ08rm"
      },
      "execution_count": 121,
      "outputs": []
    },
    {
      "cell_type": "code",
      "source": [
        "# Predict using vgg Model\n",
        "y_pred_inf = vgg_model.predict(x_inf_final)\n",
        "y_pred_inf"
      ],
      "metadata": {
        "colab": {
          "base_uri": "https://localhost:8080/"
        },
        "id": "o2EcDpKR08xV",
        "outputId": "25f338e5-4f7b-473a-efac-00ab0834d07d"
      },
      "execution_count": 122,
      "outputs": [
        {
          "output_type": "execute_result",
          "data": {
            "text/plain": [
              "array([[1.9065931e-04],\n",
              "       [2.9212912e-04],\n",
              "       [4.7183592e-05],\n",
              "       [8.5802982e-05],\n",
              "       [1.4835827e-04],\n",
              "       [1.5734546e-04],\n",
              "       [7.6644916e-05],\n",
              "       [9.9972337e-01],\n",
              "       [9.9999928e-01],\n",
              "       [8.5802982e-05]], dtype=float32)"
            ]
          },
          "metadata": {},
          "execution_count": 122
        }
      ]
    },
    {
      "cell_type": "code",
      "source": [
        "# Predict the class of y_pred_inf\n",
        "y_pred_inf_2 = ((y_pred_inf > 0.5)+0).ravel()\n",
        "y_pred_inf_2"
      ],
      "metadata": {
        "colab": {
          "base_uri": "https://localhost:8080/"
        },
        "id": "N0lgcGky1KQf",
        "outputId": "dde72ea8-2aaf-4c6c-fa96-ec9d37d59016"
      },
      "execution_count": 123,
      "outputs": [
        {
          "output_type": "execute_result",
          "data": {
            "text/plain": [
              "array([0, 0, 0, 0, 0, 0, 0, 1, 1, 0])"
            ]
          },
          "metadata": {},
          "execution_count": 123
        }
      ]
    },
    {
      "cell_type": "code",
      "source": [
        "# Predict\n",
        "y_inf['VGG Prediction'] = y_pred_inf_2\n",
        "y_inf"
      ],
      "metadata": {
        "colab": {
          "base_uri": "https://localhost:8080/",
          "height": 363
        },
        "id": "5rRME-su1Mzp",
        "outputId": "db6af835-9802-497c-bbe7-52f72eb932aa"
      },
      "execution_count": 125,
      "outputs": [
        {
          "output_type": "execute_result",
          "data": {
            "text/plain": [
              "     labels  VGG Prediction\n",
              "4         0               0\n",
              "272       0               0\n",
              "350       0               0\n",
              "105       0               0\n",
              "130       0               0\n",
              "222       0               0\n",
              "136       0               0\n",
              "506       1               1\n",
              "665       1               1\n",
              "328       0               0"
            ],
            "text/html": [
              "\n",
              "  <div id=\"df-9fca35eb-f4e8-43e0-94eb-35cad7c7830f\">\n",
              "    <div class=\"colab-df-container\">\n",
              "      <div>\n",
              "<style scoped>\n",
              "    .dataframe tbody tr th:only-of-type {\n",
              "        vertical-align: middle;\n",
              "    }\n",
              "\n",
              "    .dataframe tbody tr th {\n",
              "        vertical-align: top;\n",
              "    }\n",
              "\n",
              "    .dataframe thead th {\n",
              "        text-align: right;\n",
              "    }\n",
              "</style>\n",
              "<table border=\"1\" class=\"dataframe\">\n",
              "  <thead>\n",
              "    <tr style=\"text-align: right;\">\n",
              "      <th></th>\n",
              "      <th>labels</th>\n",
              "      <th>VGG Prediction</th>\n",
              "    </tr>\n",
              "  </thead>\n",
              "  <tbody>\n",
              "    <tr>\n",
              "      <th>4</th>\n",
              "      <td>0</td>\n",
              "      <td>0</td>\n",
              "    </tr>\n",
              "    <tr>\n",
              "      <th>272</th>\n",
              "      <td>0</td>\n",
              "      <td>0</td>\n",
              "    </tr>\n",
              "    <tr>\n",
              "      <th>350</th>\n",
              "      <td>0</td>\n",
              "      <td>0</td>\n",
              "    </tr>\n",
              "    <tr>\n",
              "      <th>105</th>\n",
              "      <td>0</td>\n",
              "      <td>0</td>\n",
              "    </tr>\n",
              "    <tr>\n",
              "      <th>130</th>\n",
              "      <td>0</td>\n",
              "      <td>0</td>\n",
              "    </tr>\n",
              "    <tr>\n",
              "      <th>222</th>\n",
              "      <td>0</td>\n",
              "      <td>0</td>\n",
              "    </tr>\n",
              "    <tr>\n",
              "      <th>136</th>\n",
              "      <td>0</td>\n",
              "      <td>0</td>\n",
              "    </tr>\n",
              "    <tr>\n",
              "      <th>506</th>\n",
              "      <td>1</td>\n",
              "      <td>1</td>\n",
              "    </tr>\n",
              "    <tr>\n",
              "      <th>665</th>\n",
              "      <td>1</td>\n",
              "      <td>1</td>\n",
              "    </tr>\n",
              "    <tr>\n",
              "      <th>328</th>\n",
              "      <td>0</td>\n",
              "      <td>0</td>\n",
              "    </tr>\n",
              "  </tbody>\n",
              "</table>\n",
              "</div>\n",
              "      <button class=\"colab-df-convert\" onclick=\"convertToInteractive('df-9fca35eb-f4e8-43e0-94eb-35cad7c7830f')\"\n",
              "              title=\"Convert this dataframe to an interactive table.\"\n",
              "              style=\"display:none;\">\n",
              "        \n",
              "  <svg xmlns=\"http://www.w3.org/2000/svg\" height=\"24px\"viewBox=\"0 0 24 24\"\n",
              "       width=\"24px\">\n",
              "    <path d=\"M0 0h24v24H0V0z\" fill=\"none\"/>\n",
              "    <path d=\"M18.56 5.44l.94 2.06.94-2.06 2.06-.94-2.06-.94-.94-2.06-.94 2.06-2.06.94zm-11 1L8.5 8.5l.94-2.06 2.06-.94-2.06-.94L8.5 2.5l-.94 2.06-2.06.94zm10 10l.94 2.06.94-2.06 2.06-.94-2.06-.94-.94-2.06-.94 2.06-2.06.94z\"/><path d=\"M17.41 7.96l-1.37-1.37c-.4-.4-.92-.59-1.43-.59-.52 0-1.04.2-1.43.59L10.3 9.45l-7.72 7.72c-.78.78-.78 2.05 0 2.83L4 21.41c.39.39.9.59 1.41.59.51 0 1.02-.2 1.41-.59l7.78-7.78 2.81-2.81c.8-.78.8-2.07 0-2.86zM5.41 20L4 18.59l7.72-7.72 1.47 1.35L5.41 20z\"/>\n",
              "  </svg>\n",
              "      </button>\n",
              "      \n",
              "  <style>\n",
              "    .colab-df-container {\n",
              "      display:flex;\n",
              "      flex-wrap:wrap;\n",
              "      gap: 12px;\n",
              "    }\n",
              "\n",
              "    .colab-df-convert {\n",
              "      background-color: #E8F0FE;\n",
              "      border: none;\n",
              "      border-radius: 50%;\n",
              "      cursor: pointer;\n",
              "      display: none;\n",
              "      fill: #1967D2;\n",
              "      height: 32px;\n",
              "      padding: 0 0 0 0;\n",
              "      width: 32px;\n",
              "    }\n",
              "\n",
              "    .colab-df-convert:hover {\n",
              "      background-color: #E2EBFA;\n",
              "      box-shadow: 0px 1px 2px rgba(60, 64, 67, 0.3), 0px 1px 3px 1px rgba(60, 64, 67, 0.15);\n",
              "      fill: #174EA6;\n",
              "    }\n",
              "\n",
              "    [theme=dark] .colab-df-convert {\n",
              "      background-color: #3B4455;\n",
              "      fill: #D2E3FC;\n",
              "    }\n",
              "\n",
              "    [theme=dark] .colab-df-convert:hover {\n",
              "      background-color: #434B5C;\n",
              "      box-shadow: 0px 1px 3px 1px rgba(0, 0, 0, 0.15);\n",
              "      filter: drop-shadow(0px 1px 2px rgba(0, 0, 0, 0.3));\n",
              "      fill: #FFFFFF;\n",
              "    }\n",
              "  </style>\n",
              "\n",
              "      <script>\n",
              "        const buttonEl =\n",
              "          document.querySelector('#df-9fca35eb-f4e8-43e0-94eb-35cad7c7830f button.colab-df-convert');\n",
              "        buttonEl.style.display =\n",
              "          google.colab.kernel.accessAllowed ? 'block' : 'none';\n",
              "\n",
              "        async function convertToInteractive(key) {\n",
              "          const element = document.querySelector('#df-9fca35eb-f4e8-43e0-94eb-35cad7c7830f');\n",
              "          const dataTable =\n",
              "            await google.colab.kernel.invokeFunction('convertToInteractive',\n",
              "                                                     [key], {});\n",
              "          if (!dataTable) return;\n",
              "\n",
              "          const docLinkHtml = 'Like what you see? Visit the ' +\n",
              "            '<a target=\"_blank\" href=https://colab.research.google.com/notebooks/data_table.ipynb>data table notebook</a>'\n",
              "            + ' to learn more about interactive tables.';\n",
              "          element.innerHTML = '';\n",
              "          dataTable['output_type'] = 'display_data';\n",
              "          await google.colab.output.renderOutput(dataTable, element);\n",
              "          const docLink = document.createElement('div');\n",
              "          docLink.innerHTML = docLinkHtml;\n",
              "          element.appendChild(docLink);\n",
              "        }\n",
              "      </script>\n",
              "    </div>\n",
              "  </div>\n",
              "  "
            ]
          },
          "metadata": {},
          "execution_count": 125
        }
      ]
    },
    {
      "cell_type": "markdown",
      "source": [
        "From the result of this inference data, we can see that the VGG16 Model that we chose as our best model did worked with 100% accuracy in prediction of new data. Despite that, since we have only little value of inference data here, the result of the prediction accuracy can change with new datas, especially in big amount."
      ],
      "metadata": {
        "id": "X7ZzyzXb1Yns"
      }
    },
    {
      "cell_type": "markdown",
      "source": [
        "# XI. Cosine Similarity"
      ],
      "metadata": {
        "id": "l5m89QhxBfLT"
      }
    },
    {
      "cell_type": "markdown",
      "source": [
        "To make sure that our model can properly differentiate different signatures in the database, we will also be adding cosine similarity in addition to our model. This is so we can actually check the signature properly."
      ],
      "metadata": {
        "id": "6Mj_5z0X19XU"
      }
    },
    {
      "cell_type": "code",
      "source": [
        "# Define functions\n",
        "\n",
        "# Repeat axis to treat greyscale as RGB function\n",
        "def repeat_axis(x):\n",
        "    rgb_batch = np.repeat(x[..., np.newaxis], 3, -1)\n",
        "    return rgb_batch\n",
        "\n",
        "# Cosine similarity function\n",
        "def cosine_similarity(x,y):\n",
        "    dot_product = x@y\n",
        "    cos = dot_product/(np.linalg.norm(x) * np.linalg.norm(y))\n",
        "    return cos\n",
        "\n",
        "# Calculating average cosine similarity function\n",
        "def avg_cos_similar (a,b,c,d,e,f):\n",
        "    if (a == f).all() or (b == f).all() or (c == f).all() or (e == f).all() or (d == f).all() :\n",
        "        avg_cos = (cosine_similarity(a,f) + cosine_similarity(b,f) + cosine_similarity(c,f) + cosine_similarity(d,f) + cosine_similarity(e,f)-1)/4        \n",
        "    else:\n",
        "        avg_cos = (cosine_similarity(a,f) + cosine_similarity(b,f) + cosine_similarity(c,f) + cosine_similarity(d,f) + cosine_similarity(e,f))/5\n",
        "    return round(avg_cos,5)"
      ],
      "metadata": {
        "id": "NeY4Iwzu2RZu"
      },
      "execution_count": 127,
      "outputs": []
    },
    {
      "cell_type": "code",
      "source": [
        "# Input test image\n",
        "image1=load_img(f\"/content/images/Dataset_Signature_Final/Dataset/dataset2/real/00101001.png\", color_mode='grayscale', target_size= (256,256,3))\n",
        "image2=load_img(f\"/content/images/Dataset_Signature_Final/Dataset/dataset2/real/00102001.png\", color_mode='grayscale', target_size= (256,256,3))\n",
        "image3=load_img(f\"/content/images/Dataset_Signature_Final/Dataset/dataset2/real/00103001.png\", color_mode='grayscale', target_size= (256,256,3))\n",
        "image4=load_img(f\"/content/images/Dataset_Signature_Final/Dataset/dataset2/real/00104001.png\", color_mode='grayscale', target_size= (256,256,3))\n",
        "image5=load_img(f\"/content/images/Dataset_Signature_Final/Dataset/dataset2/real/00105001.png\", color_mode='grayscale', target_size= (256,256,3))\n",
        "image6=load_img(\"/content/images/Dataset_Signature_Final/Dataset/dataset2/forge/02204001.png\", color_mode='grayscale', target_size= (256,256,3))\n",
        "image7=load_img(\"/content/images/Dataset_Signature_Final/Dataset/dataset2/forge/02102006.png\", color_mode='grayscale', target_size= (256,256,3))\n",
        "\n",
        "\n",
        "image1=np.array(image1)/255\n",
        "image2=np.array(image2)/255\n",
        "image3=np.array(image3)/255\n",
        "image4=np.array(image4)/255\n",
        "image5=np.array(image5)/255\n",
        "image6=np.array(image6)/255\n",
        "image7=np.array(image6)/255\n"
      ],
      "metadata": {
        "id": "cPrM0Qsp2t8w"
      },
      "execution_count": 151,
      "outputs": []
    },
    {
      "cell_type": "code",
      "source": [
        "# Convert images\n",
        "image1=image1[np.newaxis,...]\n",
        "image2=image2[np.newaxis,...]\n",
        "image3=image3[np.newaxis,...]\n",
        "image4=image4[np.newaxis,...]\n",
        "image5=image5[np.newaxis,...]\n",
        "image6=image6[np.newaxis,...]\n",
        "image7=image7[np.newaxis,...]\n",
        "image1.shape"
      ],
      "metadata": {
        "colab": {
          "base_uri": "https://localhost:8080/"
        },
        "id": "S5oOa4e73IjM",
        "outputId": "b5236893-d7f4-4ca9-df7d-2fde7f8e4b71"
      },
      "execution_count": 152,
      "outputs": [
        {
          "output_type": "execute_result",
          "data": {
            "text/plain": [
              "(1, 256, 256)"
            ]
          },
          "metadata": {},
          "execution_count": 152
        }
      ]
    },
    {
      "cell_type": "code",
      "source": [
        "# Convert images axis\n",
        "image1=repeat_axis(image1)\n",
        "image2=repeat_axis(image2)\n",
        "image3=repeat_axis(image3)\n",
        "image4=repeat_axis(image4)\n",
        "image5=repeat_axis(image5)\n",
        "image6=repeat_axis(image6)\n",
        "image7=repeat_axis(image7)\n"
      ],
      "metadata": {
        "id": "DC4UWqme3U6y"
      },
      "execution_count": 153,
      "outputs": []
    },
    {
      "cell_type": "markdown",
      "source": [
        "#### **Trying Cosine Similarity with VGG16**"
      ],
      "metadata": {
        "id": "Sin3tpMb3dmT"
      }
    },
    {
      "cell_type": "code",
      "source": [
        "# Create model that fit the image\n",
        "model_VGG16_2= VGG16(include_top=False, weights='imagenet',input_shape=(256,256,3),classes=2)"
      ],
      "metadata": {
        "id": "g6y82TEG3aTt"
      },
      "execution_count": 154,
      "outputs": []
    },
    {
      "cell_type": "code",
      "source": [
        "# Predict with VGG16\n",
        "vgg16_image1= model_VGG16_2.predict(image1)\n",
        "vgg16_image2= model_VGG16_2.predict(image2)\n",
        "vgg16_image3= model_VGG16_2.predict(image3)\n",
        "vgg16_image4= model_VGG16_2.predict(image4)\n",
        "vgg16_image5= model_VGG16_2.predict(image5)\n",
        "vgg16_image6= model_VGG16_2.predict(image6)\n",
        "vgg16_image7= model_VGG16_2.predict(image7)"
      ],
      "metadata": {
        "id": "cvBfKFoD3ras"
      },
      "execution_count": 155,
      "outputs": []
    },
    {
      "cell_type": "code",
      "source": [
        "# Reshape image for calculation\n",
        "vgg16_image1=vgg16_image1.reshape(-1)\n",
        "vgg16_image2=vgg16_image2.reshape(-1)\n",
        "vgg16_image3=vgg16_image3.reshape(-1)\n",
        "vgg16_image4=vgg16_image4.reshape(-1)\n",
        "vgg16_image5=vgg16_image5.reshape(-1)\n",
        "vgg16_image6=vgg16_image6.reshape(-1)\n",
        "vgg16_image7=vgg16_image7.reshape(-1)"
      ],
      "metadata": {
        "id": "Hi6z8Jqr3rdF"
      },
      "execution_count": 156,
      "outputs": []
    },
    {
      "cell_type": "code",
      "source": [
        "# Show cosine similarity\n",
        "print(f'nilai Cosine Similarity Unggahan Forge adalah {avg_cos_similar(vgg16_image1,vgg16_image2,vgg16_image3,vgg16_image4,vgg16_image5,vgg16_image6)}')\n",
        "print(f'nilai Cosine Similarity Image I adalah {avg_cos_similar(vgg16_image1,vgg16_image2,vgg16_image3,vgg16_image4,vgg16_image5,vgg16_image1)}')\n",
        "print(f'nilai Cosine Similarity Image II adalah {avg_cos_similar(vgg16_image1,vgg16_image2,vgg16_image3,vgg16_image4,vgg16_image5,vgg16_image2)}')\n",
        "print(f'nilai Cosine Similarity Image III adalah {avg_cos_similar(vgg16_image1,vgg16_image2,vgg16_image3,vgg16_image4,vgg16_image5,vgg16_image3)}')\n",
        "print(f'nilai Cosine Similarity Image IV adalah {avg_cos_similar(vgg16_image1,vgg16_image2,vgg16_image3,vgg16_image4,vgg16_image5,vgg16_image4)}')\n",
        "print(f'nilai Cosine Similarity Image V adalah {avg_cos_similar(vgg16_image1,vgg16_image2,vgg16_image3,vgg16_image4,vgg16_image5,vgg16_image5)}')"
      ],
      "metadata": {
        "colab": {
          "base_uri": "https://localhost:8080/"
        },
        "id": "5luSxqST3rfn",
        "outputId": "f415e3e2-73c4-44da-aafe-b41e75587ccb"
      },
      "execution_count": 159,
      "outputs": [
        {
          "output_type": "stream",
          "name": "stdout",
          "text": [
            "nilai Cosine Similarity Unggahan Forge adalah 0.95187\n",
            "nilai Cosine Similarity Image I adalah 0.97606\n",
            "nilai Cosine Similarity Image II adalah 0.97687\n",
            "nilai Cosine Similarity Image III adalah 0.97808\n",
            "nilai Cosine Similarity Image IV adalah 0.97844\n",
            "nilai Cosine Similarity Image V adalah 0.97922\n"
          ]
        }
      ]
    },
    {
      "cell_type": "code",
      "source": [
        "# Define variable\n",
        "cosin1 = avg_cos_similar(vgg16_image1,vgg16_image2,vgg16_image3,vgg16_image4,vgg16_image5,vgg16_image1)\n",
        "cosin2 = avg_cos_similar(vgg16_image1,vgg16_image2,vgg16_image3,vgg16_image4,vgg16_image5,vgg16_image2)\n",
        "cosin3 = avg_cos_similar(vgg16_image1,vgg16_image2,vgg16_image3,vgg16_image4,vgg16_image5,vgg16_image3)\n",
        "cosin4 = avg_cos_similar(vgg16_image1,vgg16_image2,vgg16_image3,vgg16_image4,vgg16_image5,vgg16_image4)\n",
        "cosin5 = avg_cos_similar(vgg16_image1,vgg16_image2,vgg16_image3,vgg16_image4,vgg16_image5,vgg16_image5)\n",
        "cosin6 = avg_cos_similar(vgg16_image1,vgg16_image2,vgg16_image3,vgg16_image4,vgg16_image5,vgg16_image6)\n",
        "cosin7 = avg_cos_similar(vgg16_image1,vgg16_image2,vgg16_image3,vgg16_image4,vgg16_image5,vgg16_image7)"
      ],
      "metadata": {
        "id": "QtCzK27c509q"
      },
      "execution_count": 165,
      "outputs": []
    },
    {
      "cell_type": "code",
      "source": [
        "# Testing similar forgery sign\n",
        "if ((cosin1+cosin2+cosin3+cosin4+cosin5)/5-cosin6)>0.036:\n",
        "  print(\"Tanda tangan terdeteksi tidak relevan\")\n",
        "else:\n",
        "  print(\"Tanda tangan relevan\")"
      ],
      "metadata": {
        "colab": {
          "base_uri": "https://localhost:8080/"
        },
        "id": "jlqUjdvw4omt",
        "outputId": "c6408f25-686e-4621-d23b-95a6a32f29c2"
      },
      "execution_count": 163,
      "outputs": [
        {
          "output_type": "stream",
          "name": "stdout",
          "text": [
            "Tanda tangan relevan\n"
          ]
        }
      ]
    },
    {
      "cell_type": "code",
      "source": [
        "# Testing not similar forgery sign\n",
        "if ((cosin1+cosin2+cosin3+cosin4+cosin5)/5-cosin7)>0.036:\n",
        "  print(\"Tanda tangan terdeteksi tidak relevan\")\n",
        "else:\n",
        "  print(\"Tanda tangan relevan\")"
      ],
      "metadata": {
        "colab": {
          "base_uri": "https://localhost:8080/"
        },
        "id": "XOh08Xek6cSb",
        "outputId": "c2611349-8179-4bc1-fb71-99dbc20f4559"
      },
      "execution_count": 166,
      "outputs": [
        {
          "output_type": "stream",
          "name": "stdout",
          "text": [
            "Tanda tangan terdeteksi tidak relevan\n"
          ]
        }
      ]
    },
    {
      "cell_type": "markdown",
      "source": [
        "# XII. Conclusion"
      ],
      "metadata": {
        "id": "znqxD93M6jpw"
      }
    },
    {
      "cell_type": "markdown",
      "source": [
        "In conclusion we have found that:\n",
        "\n",
        "From Exploratory Data Analysis:\n",
        "- The train image files consist of inequal numbers of genuine and forged signature image.\n",
        "- The test image also files consist of inequal numbers of genuine and forged signature image.\n",
        "- RGB filter does not show much difference for image colors, and grayscale seems to show better visibility for the image, which help with our classification model. We will be using grayscale as our image format color.\n",
        "- We will be resizing image size to 256 x 256 for better visibility.\n",
        "\n",
        "From Model Evaluation:\n",
        "- Correct prediction 0 is when signature is real, and 1 is when signature is forge.\n",
        "- Incorrect prediction 0 is when signature is forged but predicted as real, and 1 is when signature is real but predicted as forged.\n",
        "- VGG16 is the best model working, and Resnet50 is the wost model working. \n",
        "- We decided to choose VGG16 model as our best model, since it showed a good-fit model and perform the best prediction out of all our model, with only 2 wrong predicition.\n",
        "- We will be using this VGG16 model as the basis model of our prediction.\n",
        "\n",
        "From Model Inference:\n",
        "- The VGG16 Model that we chose as our best model worked with 100% accuracy in prediction of new data. \n",
        "- Despite that, since we have only little value of inference data here, the result of the prediction accuracy can change with new datas, especially in big amount.\n",
        "\n",
        "Future Improvement:\n",
        "- More signature data to predict with more accuracy\n",
        "- More inference data to predict new data with more accuracy\n",
        "- To try other different Deep Learning model algorithm\n",
        "- More improved signature detection model with user id verification\n",
        "- Create a more advanced model that can add signatures on the go and process it right away"
      ],
      "metadata": {
        "id": "-61UR-Yh6nLj"
      }
    }
  ]
}